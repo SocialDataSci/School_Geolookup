{
 "cells": [
  {
   "cell_type": "code",
   "execution_count": 1,
   "metadata": {
    "collapsed": true
   },
   "outputs": [],
   "source": [
    "import pandas as pd"
   ]
  },
  {
   "cell_type": "code",
   "execution_count": 2,
   "metadata": {
    "collapsed": false
   },
   "outputs": [
    {
     "name": "stderr",
     "output_type": "stream",
     "text": [
      "/Users/dreyco676/anaconda3/anaconda/lib/python3.4/site-packages/IPython/core/interactiveshell.py:2902: DtypeWarning: Columns (1,9) have mixed types. Specify dtype option on import or set low_memory=False.\n",
      "  interactivity=interactivity, compiler=compiler, result=result)\n"
     ]
    }
   ],
   "source": [
    "# specify directory that your data is in (this is relative)\n",
    "path = 'INPUT/'\n",
    "\n",
    "# file you want to read in\n",
    "file = '2015 MCA-III Results Public Math.tsv'\n",
    "\n",
    "# combine the two to create the path to the file\n",
    "file_path = path + file\n",
    "\n",
    "# read in file to append data to\n",
    "data_df = pd.read_csv(file_path, sep='\\t')"
   ]
  },
  {
   "cell_type": "code",
   "execution_count": 3,
   "metadata": {
    "collapsed": false
   },
   "outputs": [
    {
     "data": {
      "text/html": [
       "<div>\n",
       "<table border=\"1\" class=\"dataframe\">\n",
       "  <thead>\n",
       "    <tr style=\"text-align: right;\">\n",
       "      <th></th>\n",
       "      <th>DataYear</th>\n",
       "      <th>DistrictCountyNumber</th>\n",
       "      <th>DistrictCountyName</th>\n",
       "      <th>DistrictNumber</th>\n",
       "      <th>DistrictType</th>\n",
       "      <th>DistrictName</th>\n",
       "      <th>SchoolNumber</th>\n",
       "      <th>SchoolName</th>\n",
       "      <th>ECSUNumber</th>\n",
       "      <th>EcoDevRgn</th>\n",
       "      <th>...</th>\n",
       "      <th>CountRefused</th>\n",
       "      <th>CountWrongGrade</th>\n",
       "      <th>GradeEnrollment</th>\n",
       "      <th>K12Enrollment</th>\n",
       "      <th>FilterThreshold</th>\n",
       "      <th>PublicSchool</th>\n",
       "      <th>SchoolCountyNumber</th>\n",
       "      <th>SchoolCountyName</th>\n",
       "      <th>SchoolClassification</th>\n",
       "      <th>SummaryLevel</th>\n",
       "    </tr>\n",
       "  </thead>\n",
       "  <tbody>\n",
       "    <tr>\n",
       "      <th>0</th>\n",
       "      <td>14-15</td>\n",
       "      <td>1</td>\n",
       "      <td>Aitkin</td>\n",
       "      <td>1</td>\n",
       "      <td>1</td>\n",
       "      <td>AITKIN PUBLIC SCHOOL DISTRICT</td>\n",
       "      <td>0</td>\n",
       "      <td>All Schools</td>\n",
       "      <td>3</td>\n",
       "      <td>03</td>\n",
       "      <td>...</td>\n",
       "      <td>0</td>\n",
       "      <td>0</td>\n",
       "      <td>81</td>\n",
       "      <td>1184</td>\n",
       "      <td>9</td>\n",
       "      <td>Y</td>\n",
       "      <td></td>\n",
       "      <td>NaN</td>\n",
       "      <td>0</td>\n",
       "      <td>district</td>\n",
       "    </tr>\n",
       "    <tr>\n",
       "      <th>1</th>\n",
       "      <td>14-15</td>\n",
       "      <td>1</td>\n",
       "      <td>Aitkin</td>\n",
       "      <td>1</td>\n",
       "      <td>1</td>\n",
       "      <td>AITKIN PUBLIC SCHOOL DISTRICT</td>\n",
       "      <td>0</td>\n",
       "      <td>All Schools</td>\n",
       "      <td>3</td>\n",
       "      <td>03</td>\n",
       "      <td>...</td>\n",
       "      <td>0</td>\n",
       "      <td>0</td>\n",
       "      <td>81</td>\n",
       "      <td>1184</td>\n",
       "      <td>9</td>\n",
       "      <td>Y</td>\n",
       "      <td></td>\n",
       "      <td>NaN</td>\n",
       "      <td>0</td>\n",
       "      <td>district</td>\n",
       "    </tr>\n",
       "    <tr>\n",
       "      <th>2</th>\n",
       "      <td>14-15</td>\n",
       "      <td>1</td>\n",
       "      <td>Aitkin</td>\n",
       "      <td>1</td>\n",
       "      <td>1</td>\n",
       "      <td>AITKIN PUBLIC SCHOOL DISTRICT</td>\n",
       "      <td>0</td>\n",
       "      <td>All Schools</td>\n",
       "      <td>3</td>\n",
       "      <td>03</td>\n",
       "      <td>...</td>\n",
       "      <td>0</td>\n",
       "      <td>0</td>\n",
       "      <td>81</td>\n",
       "      <td>1184</td>\n",
       "      <td>9</td>\n",
       "      <td>Y</td>\n",
       "      <td></td>\n",
       "      <td>NaN</td>\n",
       "      <td>0</td>\n",
       "      <td>district</td>\n",
       "    </tr>\n",
       "    <tr>\n",
       "      <th>3</th>\n",
       "      <td>14-15</td>\n",
       "      <td>1</td>\n",
       "      <td>Aitkin</td>\n",
       "      <td>1</td>\n",
       "      <td>1</td>\n",
       "      <td>AITKIN PUBLIC SCHOOL DISTRICT</td>\n",
       "      <td>0</td>\n",
       "      <td>All Schools</td>\n",
       "      <td>3</td>\n",
       "      <td>03</td>\n",
       "      <td>...</td>\n",
       "      <td>0</td>\n",
       "      <td>0</td>\n",
       "      <td>81</td>\n",
       "      <td>1184</td>\n",
       "      <td>9</td>\n",
       "      <td>Y</td>\n",
       "      <td></td>\n",
       "      <td>NaN</td>\n",
       "      <td>0</td>\n",
       "      <td>district</td>\n",
       "    </tr>\n",
       "    <tr>\n",
       "      <th>4</th>\n",
       "      <td>14-15</td>\n",
       "      <td>1</td>\n",
       "      <td>Aitkin</td>\n",
       "      <td>1</td>\n",
       "      <td>1</td>\n",
       "      <td>AITKIN PUBLIC SCHOOL DISTRICT</td>\n",
       "      <td>0</td>\n",
       "      <td>All Schools</td>\n",
       "      <td>3</td>\n",
       "      <td>03</td>\n",
       "      <td>...</td>\n",
       "      <td>0</td>\n",
       "      <td>0</td>\n",
       "      <td>81</td>\n",
       "      <td>1184</td>\n",
       "      <td>9</td>\n",
       "      <td>Y</td>\n",
       "      <td></td>\n",
       "      <td>NaN</td>\n",
       "      <td>0</td>\n",
       "      <td>district</td>\n",
       "    </tr>\n",
       "  </tbody>\n",
       "</table>\n",
       "<p>5 rows × 51 columns</p>\n",
       "</div>"
      ],
      "text/plain": [
       "  DataYear DistrictCountyNumber DistrictCountyName  DistrictNumber  \\\n",
       "0    14-15                    1             Aitkin               1   \n",
       "1    14-15                    1             Aitkin               1   \n",
       "2    14-15                    1             Aitkin               1   \n",
       "3    14-15                    1             Aitkin               1   \n",
       "4    14-15                    1             Aitkin               1   \n",
       "\n",
       "   DistrictType                   DistrictName  SchoolNumber   SchoolName  \\\n",
       "0             1  AITKIN PUBLIC SCHOOL DISTRICT             0  All Schools   \n",
       "1             1  AITKIN PUBLIC SCHOOL DISTRICT             0  All Schools   \n",
       "2             1  AITKIN PUBLIC SCHOOL DISTRICT             0  All Schools   \n",
       "3             1  AITKIN PUBLIC SCHOOL DISTRICT             0  All Schools   \n",
       "4             1  AITKIN PUBLIC SCHOOL DISTRICT             0  All Schools   \n",
       "\n",
       "   ECSUNumber EcoDevRgn      ...      CountRefused  CountWrongGrade  \\\n",
       "0           3       03       ...                 0                0   \n",
       "1           3       03       ...                 0                0   \n",
       "2           3       03       ...                 0                0   \n",
       "3           3       03       ...                 0                0   \n",
       "4           3       03       ...                 0                0   \n",
       "\n",
       "   GradeEnrollment K12Enrollment  FilterThreshold PublicSchool  \\\n",
       "0               81          1184                9            Y   \n",
       "1               81          1184                9            Y   \n",
       "2               81          1184                9            Y   \n",
       "3               81          1184                9            Y   \n",
       "4               81          1184                9            Y   \n",
       "\n",
       "  SchoolCountyNumber SchoolCountyName  SchoolClassification  SummaryLevel  \n",
       "0                                 NaN                     0      district  \n",
       "1                                 NaN                     0      district  \n",
       "2                                 NaN                     0      district  \n",
       "3                                 NaN                     0      district  \n",
       "4                                 NaN                     0      district  \n",
       "\n",
       "[5 rows x 51 columns]"
      ]
     },
     "execution_count": 3,
     "metadata": {},
     "output_type": "execute_result"
    }
   ],
   "source": [
    "# look at top 5 rows\n",
    "data_df.head()"
   ]
  },
  {
   "cell_type": "code",
   "execution_count": 26,
   "metadata": {
    "collapsed": false
   },
   "outputs": [
    {
     "name": "stdout",
     "output_type": "stream",
     "text": [
      "['all schools', 'aitkin secondary school', 'rippleside elementary', 'aitkin alternative learning program', 'armatage elementary', 'lake harriet lower elementary', 'bancroft elementary', 'barton open elementary', 'bethune elementary', 'burroughs elementary', 'field elementary', 'lake harriet upper school', 'hale elementary', 'howe elementary', 'lk nokomis comm-keewaydin campus', 'kenny elementary', 'kenwood elementary', 'loring elementary', 'lyndale elementary', 'jenny lind elementary', 'northrop elementary', 'pillsbury elementary', 'pratt elementary', 'seward elementary', 'sheridan elementary', 'waite park elementary', 'lk nokomis comm-wenonah campus', 'windom school', 'folwell arts magnet', 'jefferson elementary', 'dowling elementary', 'andersen community', 'sullivan elementary', 'pierre bottineau', 'anishinabe academy', 'marcy open elementary', 'bryn mawr elementary', 'green central park elementary', 'emerson elementary', 'lucy laney @ cleveland park elem.', 'hall international', 'nellie stone johnson elementary', 'whittier international', 'hmong international academy', 'cityview community', 'anthony middle school', 'anwatin middle com & spanish d i', 'ronald mcdonald house', 'northeast middle', 'olson middle', 'ramsey middle', 'sanford middle', 'merc', 'loring-nicollet high', 'urban league academy high', 'edison senior high', 'broadway arts & technology', 'henry senior high', 'plymouth youth center', 'roosevelt senior high', 'center school', 'south senior high', 'wellstone international high', 'southwest senior high', 'washburn senior high', 'menlo park academy', 'north academy arts/communication', 'harrison education center', 'extended day program', 'american indian oic', 'challenge academy', 'minneapolis on line learning', 'heritage science & technology', 'tatanka academy', 'voa high school', 'river bend educational center', 'stadium view', 'mps metro ha', 'mps metro sj', 'mps metro c', 'hill city elementary', 'hill city middle school', 'hill city senior high', 'mcgregor elementary', 'mcgregor secondary', 'south st. paul secondary', 's st. paul community lrng. cntr.', 'lincoln center elementary', 'kaposia education center elementary', 'anoka high school', 'coon rapids high school', 'anoka middle school for the arts', 'coon rapids middle school', 'jackson middle', 'northdale middle', 'blaine high school', 'andover high school', 'crossroads altn high school', 'crossroads-night', 'champlin park high school', 'oak view middle', 'roosevelt middle', 'secondary technical ed prog s.t.e.p', 'adams elementary', 'crooked lake elementary', 'franklin elementary', 'hamilton elementary', 'hoover elementary', 'johnsville elementary', 'lincoln elementary', 'madison elementary', 'mckinley elementary', 'mississippi elementary', 'monroe elementary', 'morris bye elementary', 'sand creek elementary', 'university elementary', 'wilson elementary', 'evergreen park elementary', 'eisenhower elementary', 'ramsey elementary', 'dayton elementary', 'oxbow creek elementary', 'andover elementary', 'rum river elementary', 'champlin/brooklyn pk acd math ensci', 'anoka-hennepin specialty program', 'anthony louis house', 'river trail learning ctr @ lo jacob', 'compass on-line', 'compass-bell center', 'step ahead high school', 'pines school - acs', 'pines school - nsp', 'pines school - rjc', 'pines school day program', 'centennial high school', 'centennial middle', 'centennial area learning center', 'calc transition', 'centennial elementary', 'centerville elementary', 'golden lake elementary', 'rice lake elementary', 'blue heron elementary', 'columbia heights senior high', 'columbia academy', 'achieve', 'highland elementary', 'north park elementary', 'valley view elementary', 'fridley senior high', 'fridley middle', 'hayes elementary', 'stevenson elementary', 'fridley moore lk area learning ctr', 'fridley middle area learning center', 'st. francis high', 'st. francis middle', 'st. francis elementary', 'cedar creek community school', 'east bethel community school', 'crossroads school & voc. center', 'spring lake park senior high', 'westwood middle', 'northpoint elementary', 'westwood intermediate school', 'woodcrest el. spanish immersion', 'park terrace el.', 'distance learning indep study', 'elementary lighthouse', 'secondary lighthouse', 'detroit lakes senior high', 'detroit lakes middle', 'detroit lakes alternative prog.', 'rossman elementary', 'detroit lakes middle alc', 'drake residential treatment center', 'detroit lakes area learning center', 'roosevelt elementary', 'frazee elementary', 'frazee secondary', 'pine point elementary', 'bemidji middle', 'northern elementary', 'bemidji senior high', 'bemidji senior lumberjack alc', 'j.w. smith elementary', 'central elementary', 'bemidji bylaw', 'solway elementary', 'horace may elementary', 'first city school', 'bemidji area learning center', 'bemidji middle alp', 'oshki manidoo center', 'blackduck elementary', 'blackduck secondary', 'kelliher elementary', 'kelliher secondary', 'red lake elementary', 'ponemah elementary', 'red lake secondary', 'red lake alternative learning', 'red lake middle school', 'red lake middle level alc', 'red lake juvenile detention faclty', 'sauk rapids-rice senior high', 'mississippi heights elementary', 'rice elementary', 'pleasant view elementary', 'sauk rapids-rice middle school', 'foley elementary', 'foley senior high', 'foley intermediate elementary', 'st. clair elementary', 'st. clair secondary', 'kennedy elementary', 'bridges community elementary', 'rosa parks elementary school', 'washington elementary', 'mankato west senior high', 'eagle lake elementary', 'mankato east senior high', 'dakota meadows junior high', 'mankato east jr.', 'garfield elementary', 'central high  area learning center', 'central freedom school', 'futures program', 'comfrey elementary', 'comfrey secondary', 'sleepy eye elementary', 'sleepy eye sec.', 'springfield secondary', 'springfield elementary', 'new ulm high school', 'barnum elementary', 'barnum secondary', 'carlton secondary', 'south terrace elementary', 'churchill elementary', 'cloquet area alt. ed. programs', 'cloquet middle', 'cloquet senior', 'cromwell-wright elementary', 'cromwell-wright secondary', 'moose lake secondary', 'moose lake elementary', 'lincoln secondary', 'winterquist elementary', 'wrenshall elementary', 'wrenshall secondary', 'central senior high', 'central middle', 'southview elementary', 'bayview elementary', 'clearwater middle', 'waconia senior high', 'waconia alternative learning center', 'watertown-mayer elementary school', 'watertown-mayer middle', 'watertown mayer high', 'chaska high school', 'chaska middle school east', 'chaska middle school west', 'pioneer ridge middle school', 'chanhassen high school', 'integrated arts academy', '112 alc after school & summer sch', 'la academia', 'chaska elementary', 'chanhassen elementary', 'east union elementary', 'bluff creek elementary', 'clover ridge elementary', 'victoria elementary', 'jonathan elementary', 'prairiecare chaska', 'the anicca program', 'w.h.a. elementary', 'walker-hackensack-akeley sec.', 'w. h. a .  alternative program', 'cass lake-bena elementary', 'cass lake-bena middle school', 'cass lake-bena secondary', 'cass lake-bena area lrng. cntr.', 'pillager elementary', 'pillager senior high school', 'pillager middle school', 'remer elementary', 'northland secondary', 'little sand', 'montevideo middle', 'montevideo senior high', 'north branch middle', 'north branch senior high', 'sunrise river elementary', 'north branch lab school alc', 'distance learning program', 'c.e. jacobson elementary', 'rush city secondary', 'barnesville elementary', 'barnesville secondary', 'hawley elementary', 'spring prairie elementary', 'hawley secondary', 'r. asp elementary', 'ellen hopkins elementary', 's.g.reinertsen elementary', 'horizon middle school', 'moorhead high school', 'west central juvenile center', 'clay county shelter care', 'rr area learning center', 'clay county outreach center', 'mn academy for the blind', 'mn academy for the deaf', 'bagley elementary', 'bagley secondary', 'cook county middle', 'cook county senior high', 'sawtooth mountain elementary', 'mountain lake elementary', 'mountain lake secondary', 'winfair elementary', 'windom senior high', 'windom middle', 'baxter elementary', 'harrison elementary', 'lowell elementary', 'riverside elementary', 'brainerd senior high', 'nisswa elementary', 'lincoln education center', 'isd 181 learning center', 'middle level alternative program', 'forestview middle', 'crosby-ironton secondary', 'cuyuna range elementary', 'eagle view elementary', 'pequot lakes middle', 'pequot lakes senior high', 'burnsville senior high', 'metcalf junior high', 'eagle ridge junior high', 'nicollet junior high', 'burnsville area learning center', 'gideon pond elementary', 'edward neill elementary', 'm.w. savage elementary', 'sioux trail elementary', 'vista view elementary', 'william byrne elementary', 'rahn elementary', 'sky oaks elementary', 'hidden valley elementary', 'harriet bishop elementary', 'burnsville alternative high school', 'farmington elementary', 'farmington high school', 'levi p. dodge middle school', 'north trail elementary', 'robert boeckman middle school', 'meadowview elementary', 'riverview elementary', 'gateway academy', 'akin road elementary', 'lakeville north high', 'lakeville south high', 'mcguire middle', 'link12 lakeville', 'kenwood trail middle school', 'century middle school', 'lakeville area learning center', 'huddleston elementary', 'orchard lake elementary', 'lake marion elementary', 'cherry view elementary', 'lakeview elementary', 'eastview elementary', 'oak hills elementary', 'randolph elementary', 'randolph secondary', 'dakota hills middle', 'black hawk middle', 'abe diploma program', 'rosemount senior high', 'rosemount middle', 'eagan senior high', 'rosemount area learning center', 'school of environmental studies', 'falcon ridge middle', 'eastview senior high', 'scott highlands middle', 'apple valley senior high', 'valley middle', 'dakota ridge school', 'rosemount elementary', 'northview elementary', 'westview elementary', 'parkview elementary', 'diamond path elementary', 'greenleaf elementary', 'cedar park elementary', 'thomas lake elementary', 'echo park elementary', 'deerwood elementary', 'woodland elementary', 'pinewood el.', 'shannon park elementary', 'oak ridge elementary', 'glacier hills elementary', 'red pine elementary', 'cooperative area learning prg.', 'friendly hills middle', 'henry sibley high school', 'heritage e-stem magnet school', 'moreland art/health science magnet', 'mendota elementary', 'garlough environmental magnet', 'somerset elementary', 'pilot knob stem magnet school', 'simley senior high', 'inver grove heights middle', 'simley alternative program', 'atheneum elementary', 'hilltop elementary', 'pine bend elementary', 'salem hills elementary', 'hastings high school', 'hastings middle school', 'hastings alternative center', 'harbor educational program', 'pinecrest elementary', 'christa mcauliffe elementary', 'hayfield sec.', 'brownsdale elementary', 'hayfield elementary', 'kasson-mantorville elementary', 'kasson-mantorville senior high', 'kasson-mantorville middle school', 'carlos elementary', 'miltona elementary', 'woodland elementary school', 'voyager elementary', 'discovery middle school', 'alexandria area high school', 'osakis elementary', 'osakis secondary', 'chatfield secondary', 'chatfield elementary school', 'lanesboro elementary', 'lanesboro secondary', 'mabel-canton elementary', 'mabel-canton secondary', 'rushford-peterson elementary', 'rushford-peterson senior high', 'rushford-peterson middle', 'halverson elementary', 'hawthorne elementary', 'sibley elementary', 'albert lea senior high', 'southwest middle', 'albert lea area learning center', 'fountain center', 'alden-conger secondary', 'alden-conger elementary', 'cannon falls elementary', 'cannon falls secondary', 'goodhue elementary', 'goodhue secondary', 'pine island elementary', 'pine island middle', 'pine island secondary', 'pine island high school alp', 'red wing senior high', 'twin bluff middle school', 'burnside elementary.', 'ashby elementary', 'ashby secondary', 'herman elementary', 'herman secondary', 'hopkins senior high', 'hopkins north junior high', 'hopkins west junior high', 'alice smith elementary', 'glen lake elementary', 'l.h. tanglen elementary', 'xinxing academy', 'gatewood elementary', 'meadowbrook elementary', 'kennedy senior high', 'jefferson senior high', 'oak grove middle', 'valley view middle', 'washburn elementary', 'hillcrest elementary', 'indian mounds elementary', 'olson elementary', 'oak grove elementary', 'normandale hills elementary', 'poplar bridge elementary', 'ridgeview elementary', 'westwood elementary', '271 metro south abe', 'eden prairie senior high', 'central middle school', 'oak point intermediate elementary.', 'prairie view elementary', 'forest hills elementary', 'eden lake elementary', 'eagle heights spanish immersion', 'cedar ridge elementary', 'south view middle', 'edina senior high', 'concord elementary', 'cornelia elementary', 'countryside elementary', 'highlands elementary', 'creek valley elementary', 'normandale elementary', 'minnetonka senior high', 'minnetonka east middle', 'minnetonka west middle', 'clear springs elementary', 'deephaven elementary', 'excelsior elementary', 'groveland elementary', 'minnewashta elementary', 'scenic heights elementary', 'mound-westonka high school', 'grandview middle school', 'shirley hills primary school', 'hilltop primary school', 'orono senior high', 'orono middle', 'orono intermediate elementary', 'osseo senior high', 'brooklyn junior high', 'osseo junior high', 'north view ib world school', 'park center ib world school', 'maple grove senior high', 'maple grove junior high', 'edinbrook elementary', 'rush creek elementary', 'basswood elementary', 'birch grove school for the arts', 'crest view elementary', 'weaver lake science math & tech sch', 'fair oaks elementary', 'garden city elementary', 'palmer lake elementary', 'park brook elementary', 'zanewood community school', 'cedar island elementary', 'elm creek elementary', 'fernbrook elementary', 'oak view elementary', 'alc senior high', 'richfield senior high', 'richfield stem school', 'richfield middle', 'sheridan hills elementary', 'richfield dual language school', 'richfield career education program', 'forest elementary', 'school of engineering-arts at olson', 'meadow lake elementary', 'neill elementary', 'robbinsdale spanish immersion el.', 'noble elementary', 'northport elementary', 'sonnesyn elementary', 'zachary lane elementary', 'plymouth middle', 'robbinsdale middle', 'robbinsdale cooper senior high', 'robbinsdale armstrong senior high', 'riverside', 'highview alc', 'cooper credit recovery', 'robbinsdale tasc alc', 'st. anthony village senior high', 'wilshire park elementary', 'st. anthony middle', 'st. louis park senior high', 'st. louis park middle school', 'aquila elementary', 'peter hobart elementary', 'susan lindgren elementary', 'park spanish immersion elementary', 'melrose', 'is the alternative program (tap)', 'the alternative program (tap)', 'wayzata high', 'wayzata west middle', 'wayzata east middle', 'wayzata central middle', 'birchview elementary', 'greenwood elementary', 'oakwood elementary', 'sunset hill elementary', 'plymouth creek elementary', 'gleason lake elementary', 'kimberly lane elementary', 'east middle alternative (emap)', 'brooklyn center secondary', 'insight school of minnesota', 'earle brown elementary', 'brooklyn center academy', 'invest high school', 'options mid/elem ebd', 'west high school', 'explore', 'venture', 'safe', 'strive secondary', 'cip', 'epsilon', 'omegon', 'headway academy', 'prairie care hospital day program', 'prairie care resident care-ihp', 'prairie care edina - php', 'west academy', 'south education center academy', '277 westonka area learning academy', 'nso - independent study', 'north education center academy', 'west education center alternative', 'hennepin gateway to college', 'summit learning program', 'houston elementary', 'minnesota virtual academy', 'houston secondary', 'spring grove elementary', 'spring grove secondary', 'caledonia elementary', 'caledonia middle', 'caledonia senior high', 'la crescent-hokah elementary', 'la crescent senior high', 'bluff country learning center', 'la crescent-hokah middle school', 'laporte elementary', 'laporte secondary', 'nevis elementary', 'nevis secondary', 'park rapids area century elementary', 'park rapids senior high', 'park rapids area century middle', 'headwaters educ learning program', 'braham area secondary', 'braham elementary', 'vandyke elementary', 'greenway little school', 'greenway middle', 'greenway senior high', 'deer river secondary', 'king elementary', 'deer river schools sped', 'cohasset elementary', 'bigfork elementary', 'forest lake elementary', 'murphy elementary', 'southwest elementary', 'northland educational center', 'itaskin education center', \"thistledew: alice o'brien school\", 'thistledew: wilderness endeavors', 'bigfork secondary', 'grand rapids senior high', 'grand rapids area learning center', 'robert j. elkington middle school', 'middle area learning center', 'keewatin elementary', 'nashwauk secondary', 'nashwauk-keewatin alp', 'heron lake-okabena elementary', 'heron lake-okabena secondary', 'trailview elementary', 'mora secondary', 'mora alternative learning center', 'mora middle level alc', 'ogilvie elementary', 'ogilvie secondary', 'prairie woods elementary', 'new london-spicer middle', 'new london-spicer sr.', 'new london alternative school', 'willmar senior high', 'willmar middle school', 'lakeview school', 'prairie lakes education center', 'lake park school', 'willmar area learning center', 'gemini learning center', 'lancaster elementary', 'lancaster secondary', 'falls secondary', 'falls elementary', 'littlefork-big falls elementary', 'littlefork-big falls secondary', 'indus secondary', 'northome secondary', 'northome elementary', 'indus elementary', 'stevens elementary', 'dawson-boyd secondary', 'william kelley elementary', 'minnehaha elementary', 'kelley secondary', 'two harbors secondary', 'solo', 'lake of the woods secondary', 'lake of the woods elementary', 'cleveland elementary', 'cleveland secondary', 'intensive interagency program', 'hendricks elementary', 'hendricks senior high', 'hendricks alc', 'lincoln elementary - ivanhoe', 'lake benton elementary', 'marshall high school', 'west side elementary', 'marshall middle school', 'ma-tec', 'minneota elementary', 'minneota secondary', 'lynd elementary', 'lynd middle school', 'hutchinson park elementary', 'hutchinson middle', 'hutchinson senior high', 'cornerstone', 'crow river area learning center', 'hutchinson night alt learning ctr', 'hutchinson middle school a.l.c.', 'lester prairie elementary', 'lester prairie secondary', 'mahnomen elementary', 'mahnomen secondary', 'mahnomen area learning center', 'waubun elementary', 'ogema elementary', 'waubun secondary', 'waubun area learning program', 'waubun alc', 'newfolden elementary', 'marshall county central high', 'grygla elementary', 'grygla secondary', 'truman elementary', 'truman secondary', 'eden valley elementary', 'eden valley secondary', 'lake ripley elementary', 'wagner elementary', 'litchfield middle school', 'litchfield senior high', 'litchfield area learning program', 'cokato elementary', 'dassel-cokato senior high', 'dassel elementary', 'dassel-cokato middle', 'dassel-cokato alternative ctr.', 'isle elementary', 'isle secondary', 'isle area learning center', 'north elementary', 'princeton middle', 'princeton senior high', 'onamia elementary', 'onamia secondary', 'mille lacs academy (nexus)', 'kokesh area learning center', 'lindbergh elementary', 'knight elementary', 'community middle', 'little falls senior high', 'little falls continuing education', 'pioneer elementary', 'healy secondary', 'royalton elementary', 'royalton high school', 'royalton middle school', 'swanville elementary', 'swanville secondary', 'upsala elementary', 'upsala secondary', 'banfield elementary', 'neveln elementary', 'southgate elementary', 'sumner elementary', 'austin area learning center', 'horizon program', 'austin senior high', 'i.j. holton intermediate school', 'ellis middle', 'new dominion academy', 'grand meadow elementary', 'grand meadow middle', 'grand meadow senior high', 'lyle elementary', 'lyle secondary', 'leroy elementary', 'leroy secondary', 'southland elementary', 'southland senior high', 'southland middle', 'fulda elementary', 'fulda secondary', 'nicollet elementary school', 'nicollet middle school', 'nicollet senior high school', 'rock bend hs alc', 'north intermediate school', 'st. peter senior high', 'hoffman learning center', 'mn security hospital yaap', 'st. peter middle', 'adrian elementary', 'adrian middle', 'adrian secondary', 'ellsworth elementary', 'ellsworth secondary', 'prairie elementary', 'worthington middle', 'worthington area learning center', 'worthington senior high', 'worthington 518 (virtual instruct', 'byron elementary', 'byron senior high school', 'byron middle school', 'dover-eyota elementary', 'dover-eyota middle school', 'dover-eyota high school', 'bonner elementary', 'stewartville middle', 'stewartville senior high', 'bamber valley elementary', 'bishop elementary', 'elton hills elementary', 'folwell elementary', 'montessori at franklin', 'gage elementary', 'george w. gibbs elementary', 'lincoln k-8 choice elementary', 'longfellow choice elementary', 'pinewood elementary', 'riverside central elementary', 'sunset terrace elementary', 'care & treatment hospital/homebound', 'care & treatment jdc/von wald', 'prairiecare', 'century senior high', 'rochester alternative learning ctr', 'john marshall senior high', 'mayo senior high', 'john adams middle', 'willow creek middle', 'kellogg middle', 'friedell middle', 'hawthorne diploma program', 'rochester phoenix academy', 'john marshall area learning center', 'battle lake elementary', 'battle lake secondary', 'iq academy minnesota', 'fergus falls area learning center', 'kennedy secondary school', 'henning elementary', 'henning secondary', 'parkers prairie elementary', 'parkers prairie secondary', 'viking elementary school', 'pelican rapids secondary', 'pelican rapids alt learning center', 'pelican rapids alt center mid-level', 'heart of the lake elementary', 'prairie wind middle', 'perham senior high', 'perham area learning center', 'underwood elementary', 'underwood secondary', 'new york mills elementary', 'new york mills secondary', 'goodridge elementary', 'goodridge secondary', 'challenger elementary', 'franklin middle', 'lincoln senior high', 'northwest area learning center', 'willow river elementary', 'willow river secondary', 'pine city elementary', 'pine city secondary', 'vision', 'pine city area learning center', 'edgerton secondary', 'edgerton elementary', 'climax elementary', 'climax secondary', 'new paths area learning center', 'crookston secondary', 'northern lights academy', 'south point elementary', 'east grand forks senior high', 'fertile-beltrami elementary', 'fertile-beltrami secondary', 'fisher elementary', 'fisher secondary', 'magelssen elementary', 'fosston secondary', 'bel air elementary', 'island lake elementary', 'sunnyside elementary', 'turtle lake el.', 'valentine hills el.', 'mounds view bridges program', 'nets', 'options', 'mounds view alc', 'mounds view senior high', 'irondale senior high', 'edgewood middle school', 'highview middle school', 'reach academy', 'chippewa middle school', 'carver elementary', 'castle elementary', 'cowern elementary', 'eagle point elementary', 'oakdale elementary', 'richardson elementary', 'weaver elementary', 'webster elementary', 'skyview community elementary', 'harmony learning center', 'transitions program', 'skyview community middle', 'john glenn middle', 'maplewood middle', 'north senior high', 'tartan senior high', 'fairview adolescent program', 'phoenix academy', 'anthony louis center', 'roseville area senior high', 'roseville area middle', 'parkview center school', 'harambee elementary school', 'fairview alternative high school', 'brimhall elementary', 'central park elementary', 'falcon heights elementary', 'little canada elementary', 'williams elementary', 'white bear north campus senior', 'central area learning center', 'sunrise park middle', 'sunrise park area learning center', 'white bear south campus senior', 'oneka elementary school', 'birch lake elementary', 'otter lake elementary', 'lakeaires elementary', 'matoska international', 'vadnais heights elementary', 'willow lane elementary', 'white bear area learning center', 'a. g. a. p. e. teen parent', 'home/hospital instruction', 'anna westin house', 'creative arts secondary school', 'como park senior high', 'harding senior high', 'highland park senior high', 'humboldt secondary school', 'johnson senior high', 'open world learning secondary', 'washington tech secondary magnet', 'battle creek middle', 'farnsworth aerospace upper', 'highland park middle school', 'murray middle school', 'parkway montessori/community middle', 'ramsey middle school', 'adams magnet elementary', 'john a.johnson achievement plus el.', 'battle creek elementary school', 'benjamin e mays magnet', 'chelsea heights elementary', 'cherokee heights elementary school', 'bridge view special education', 'como park elementary', 'daytons bluff elementary', 'expo for excellence elementary sch', 'bruce f vento elementary', 'eastern heights elementary', 'farnsworth aerospace lower', 'four seasons elementary', \"l'etoile du nord french immersion u\", 'frost lake elementary school', 'crossroads montessori', 'crossroads science program', 'galtier elementary school', 'groveland park elementary', 'hamline elementary school', 'jie ming mandarin immersion academy', 'the heights community school', 'hazel park preparatory academy', 'highland park elementary', 'jj hill montessori', 'capitol hill magnet/rondo', 'highwood hills elementary', 'jackson preparatory elementary', 'linwood monroe arts plus lower', 'horace mann school', 'maxfield elementary school', 'mississippi creative arts elem', 'linwood monroe arts plus upper', 'nokomis montessori north campus', 'nokomis montessori south campus', 'phalen lake hmong studies magnet', 'randolph heights elementary', 'riverview west school of excellence', 'paul & sheila wellstone elementary', 'st. anthony park elementary', 'saint paul music academy', 'obama service learning elementary', 'american indian magnet school', 'rivereast program', 'united hospital adolescent program', 'juvenile service center', 'journeys secondary school', 'gordon parks high school', 'leap high school', 'boys totem town', 'guadalupe alternative programs', 'j.a. hughes elementary', 'lafayette secondary', 'milroy elementary', 'milroy junior high', 'wabasso elementary', 'wabasso secondary', 'reflections', 'cannon river education center s.u.n', 'focus', 'faribault middle', 'faribault senior high', 'faribault area learning center', 'northfield senior high', 'northfield middle', 'greenvale park elementary', 'bridgewater elementary', 'northfield area learning center', 'hills-beaver creek elementary', 'hills-beaver creek secondary', 'badger elementary', 'badger secondary', 'roseau elementary', 'roseau secondary', 'warroad elementary', 'angle inlet elementary', 'warroad high school', 'border area learning center', 'vaughan elementary', 'chisholm elementary', 'chisholm secondary', 'memorial middle school', 'memorial high school', 'floodwood elementary', 'floodwood secondary', 'floodwood alt. learning program', 'hermantown elementary', 'hermantown middle', 'hermantown senior high', 'hermantown alternative learning prg', 'hibbing high', 'mesabi area learning center', 'proctor senior high', 'a.i. jedlicka middle school', 'bay view elementary', 'pike lake elementary', 'virginia secondary', 'nett lake elementary', 'merritt creek academy', 'denfeld high school', 'east high school', 'lincoln park middle school', 'ordean east middle school', 'congdon elementary', 'homecroft elementary', 'lakewood elementary', 'lester park elementary', 'laura macarthur elementary', 'myers-wilkins elementary', 'piedmont elementary', 'stowe elementary', 'chester creek academy', 'woodland hills academy', 'arrowhead juvenile center', 'special ed. n.p.', 'duluth area learning center', 'bethany crises shelter', 'superior academy', 'academic excellence online', 'merritt elementary', 'mountain iron-buhl secondary', 'mesabi academy school', 'oak crest elementary', 'belle plaine senior high', 'belle plaine junior high', 'jordan secondary', 'jordan middle', 'jordan elementary', 'westwood el.', 'five hawks el.', 'grainwood el.', 'glendale el.', 'jeffers pond elementary', 'redtail ridge elementary school', 'hidden oaks middle school', 'twin oaks middle school', 'prior lake high school', 'prior lake-savage area alc', 'shakopee senior high', 'shakopee junior high west', 'shakopee junior high east', 'shakopee sr alc', 'sweeney elementary', 'sun path elementary', 'pearson sixth grade center', 'red oak elementary', 'eagle creek elementary school', 'jackson elementary', 'new prague senior high', 'new prague middle school', 'new prague alc', 'raven stream elementary', 'eagle view', 'falcon ridge', 'becker intermediate elementary', 'becker senior high', 'becker middle', 'becker alternative learning program', 'independence elementary', 'big lake senior high', 'big lake middle school', 'liberty elementary', 'rogers elementary', 'parker elementary', 'hassan elementary', 'twin lakes elementary', 'rogers middle school', 'zimmerman middle', 'vandenberge middle school', 'isd 728 focus/journey', 'salk middle school', 'elk river senior high', 'rogers senior high', 'zimmerman high school', 'online 728', 'ivan sand community high school', 'meadowvale elementary', 'otsego elementary', 'holdingford elementary', 'holdingford secondary', 'kimball elementary', 'kimball secondary', 'melrose elementary', 'melrose middle', 'melrose secondary', 'paynesville elementary', 'paynesville middle', 'paynesville area high school', 'clearview elementary', 'kennedy community school', 'discovery community elementary', 'talahi community elementary', 'st. cloud group home', 'oak hill community elementary', 'north junior high', 'south junior high', 'apollo senior high', 'technical senior high', 'city life', 'st cloud area learning center', 'st. cloud hospital programs non-res', 'st cloud hospital progs-residential', 'riverwoods school non-residential', 'riverwoods school - residential', 'sauk centre elementary', 'sauk centre secondary', 'albany elementary', 'avon elementary', 'albany junior high', 'albany senior high', 'sartell senior high', 'pine meadow elementary', 'sartell middle', 'richmond elementary', 'rockville elementary', 'cold spring elementary', 'rocori senior high', 'rocori middle', 'rocori alc', 'blooming prairie elementary', 'blooming prairie secondary', 'owatonna senior high', 'owatonna junior high', 'actions school', 'elementary actions', 'owatonna alc 9-12', 'willow creek intr. elementary', 'medford elementary', 'medford secondary', 'hancock elementary', 'hancock sec.', 'chokio-alberta secondary', 'chokio-alberta elementary', 'murdock elementary', 'kerkhoven secondary', 'benson secondary', 'northside elementary', 'benson area learning center', 'heartland girls ranch', 'benson day treatment', 'bertha elementary', 'bertha secondary', 'browerville elementary', 'browerville secondary', 'browns valley elementary', 'browns valley middle', 'pearson elementary', 'wheaton secondary', 'wabasha-kellogg elementary', 'wabasha-kellogg secondary', 'bluff view elementary', 'verndale elementary', 'verndale secondary', 'sebeka elementary', 'sebeka secondary', 'menahga elementary', 'menahga secondary', 'hartley elementary', 'waseca intermediate school', 'waseca junior high', 'waseca senior high', 'waseca alternative high', 'wcoc - day treatment', 'forest lake area learning center', 'forest lake senior high', 'century junior high', 'southwest junior high', 'columbus elementary', 'forest view elementary', 'lino lakes elementary', 'linwood elementary', 'scandia elementary', 'wyoming elementary', 'central montessori  elementary', 'o.h. anderson elementary', 'mahtomedi middle', 'mahtomedi senior high', 'cottage grove middle school', 'lake middle school', 'oltman middle school', 'south washington alternative hs', 'park senior high', 'east ridge high school', 'woodbury middle school', 'woodbury senior high', 'armstrong elementary', 'nuevas fronteras', 'crestview elementary', 'grey cloud elementary', 'hillside elementary', 'cottage grove elementary', 'newport elementary', 'pine hill elementary', 'liberty ridge elementary', 'pullman elementary', 'red rock elementary', 'royal oaks elementary', 'gordon bailey elementary', 'woodbury elementary', 'middleton elementary', 'place', 'stillwater area high school', 'oak-land junior high', 'stillwater junior high', 'st croix valley area learning cntr.', 'afton-lakeland elementary', 'andersen elementary', 'lake elmo elementary', 'lily lake elementary', 'marine elementary', 'oak park elementary', 'withrow elementary', 'stonebridge elementary', 'stillwater dist. special services', 'rutherford elementary', 'phase 4', 'butterfield elementary', 'butterfield secondary', 'madelia elementary', 'madelia secondary', 'eminnesota online academy', 'st. james northside elementary', 'st. james secondary', 'breckenridge elementary', 'breckenridge middle', 'breckenridge senior high', 'rothsay elementary', 'rothsay secondary', 'campbell-tintah elementary', 'campbell-tintah secondary', 'lewiston-altura elementary', 'lewiston-altura intermediate el.', 'lewiston-altura secondary', 'st. charles elementary', 'st. charles secondary', 'winona middle', 'winona senior high', 'rollingstone community elementary', 'washington-kosciusko elementary', 'goodview elementary', 'winona area learning center', 'annandale elementary school', 'annandale middle school', 'annandale senior high', 'parkside elementary', 'hanover elementary', 'buffalo community middle', 'buffalo senior high', 'phoenix learning center', 'montrose elementary', 'tatanka elementary', 'northwinds elementary', 'discovery elementary', 'delano elementary', 'delano middle', 'delano senior high', 'maple lake elementary', 'maple lake secondary', 'monticello senior high', 'monticello middle', 'monticello alternative program', 'little mountain elementary', 'prairie house school', 'rockford secondary', 'rockford elementary arts magnet sch', 'rockford middle', 'st. michael-albertville senior high', 'st. michael-albertville middle east', 'st. michael elementary', 'knights academy', 'big woods elementary', 'fieldstone elementary school', 'page academy', 'st michael-albertville middle west', 'canby secondary', 'canby elementary', 'school for all seasons', 'cambridge intermediate school', 'isanti intermediate school', 'cambridge middle school', 'isanti middle school', 'minnesota center', 'cambridge-isanti high school', 'milaca elementary', 'milaca secondary high', 'milaca area learning center', 'ulen-hitterdal elementary', 'ulen-hitterdal secondary', 'southern plains area learning cntr.', 'southern plains bridges', 'winnebago', 'pathways', 'bellaire education center', 'lifespan', 'assessment center elem', 'assessment center sec', 'the willows', 'aris', 'alp @ capitol view center', 'creative alternatives program', 'project return', 'karner blue education center', 'alp @ vccs', 'elementary alp @ john glenn', 'south campus 916', '916 mahtomedi academy', 'east view academy', 'metro heights academy', '917 intra-dakota educational alt', '917 d/hh gideon pond elementary', '917 paces', 'dakota cty. alc', 'west heights alc', 'youth transition program', 'new chance', 'riverside school', '917 sun', '917 dash', 'tea', 'lakes country youth educ svcs', 'fergus falls ec/elementary sp ed', 'fergus falls elementary sp ed 5-8', 'cornerstones program', 'wings alternative program', 'village ranch alternative program', 'journeys alternative program', 'eastern wright program', 'westside alternative program', 'cambridge alc west', 'st. francis alc', 'cambridge alc east', 'st. francis alc is', 'oak land alc west', 'wright technical center alc', 'wright technical center alc middle', 'red rock ridge setting iv', 'red rock ridge area learning cntr', 'belview learning ctr bridges', 'cosmos learning center-transitions', 'foundations alternative program', 'blue mound learning center', 'north central learning center', 'perpich center for arts education', 'crosswinds arts and science middle', 'lk crystal welcome memorial el.', 'lk crystal-wellcome memorial sec.', 'triton middle school', 'triton elementary', 'triton high school', 'united south central elementary', 'united south central high school', 'magic academy ms/hs', 'maple river senior high', 'maple river east elementary', 'maple river middle school', 'maple river west elementary', 'magic', 'kingsland elementary', 'kingsland middle', 'kingsland senior high', 'babbitt elementary', 'tower-soudan elementary', 'northeast range secondary', 'south ridge elementary', 'south ridge secondary', 'north woods elementary', 'north woods secondary', 'cherry secondary', 'cherry elementary', 'morristown elementary', 'waterville-elysian-morristown jr.', 'waterville elementary', 'waterville-elysian-morristown sr.', 'lakeside el.', 'chisago lakes middle', 'chisago lakes senior high', 'taylors falls elementary', 'level 4 program pathways to change', 'fairview day treatment center', 'minnewaska secondary', 'minnewaska area junior high', 'minnewaska area middle', 'minnewaska area elementary', 'minnewaska day treatment program', 'nelle shean elementary', 'eveleth-gilbert junior high', 'eveleth-gilbert senior high', 'wadena-deer creek senior high', 'wadena-deer creek elementary', 'wadena-deer creek 5th and 6th grade', 'buffalo lake-hector elementary', 'buffalo lake-hector secondary', 'dilworth elementary', 'glyndon-felton elementary', 'dilworth-glyndon-felton middle sch', 'dilworth-glyndon-felton senior high', 'hinckley elementary', 'hinckley-finlayson secondary', 'finlayson elementary', 'hinckley-finlayson alternative prog', 'lakeview secondary', 'nrheg secondary', 'nrheg elementary', 'murray co. central elementary', 'murray county central secondary', 'motley elementary', 'staples elementary', 'staples-motley senior high', 'motley-staples middle', 'kittson central elementary', 'kittson central-st. vincent elem.', 'kittson central secondary', 'kenyon-wanamingo elementary', 'kenyon-wanamingo senior high', 'kenyon-wanamingo middle', 'pine river-backus elementary', 'pine river-backus high school', 'pine river-backus area learning ctr', 'warren elementary', 'warren-alvarado-oslo secondary', 'm.a.c.c.r.a.y. west elementary', 'm.a.c.c.r.a.y. east elementary', 'm.a.c.c.r.a.y. senior high', 'luverne elementary', 'luverne middle', 'luverne senior high', 'southwestern youth services', 'bert raney elementary school', 'yellow medicine east high school', 'yellow medicine east middle school', 'fillmore central elementary', 'root river program', 'fillmore central senior high', 'norman county east secondary', 'norman county east elementary', 'sibley east-arlington elementary', 'sibley east-arlington senior high', 'sibley east-gaylord elementary', 'sibley east-gaylord junior high', 'clearbrook-gonvick elementary', 'clearbrook-gonvick secondary', 'west central area n. el.', 'west central area s. el.', 'west central area sec.', 'wca 5-6 elementary', 'karlstad elementary', 'tri-county secondary', 'belgrade-brooten-elrosa elementary', 'belgrade-brooten-elrosa sec.', 'g.f.w. el.', 'g.f.w. mid.', 'g.f.w. high school', 'a.c.g.c. elementary', 'acgc elementary grades 5 and 6', 'a.c.g.c. secondary', 'park elementary', 'le sueur-henderson high school', 'le sueur-henderson middle school', 'area adult learning cooperative', 'ziebarth alternative learning ctr.', 'lsh middle school alternative prog', 'trimont elementary', 'martin county west senior high', 'martin county west junior high', 'norman county  west elementary', 'norman county  west secondary', 'bold-bird island elementary', 'bold senior high', 'bold alc', 'granada huntley east chain elem.', 'granada-huntley east chain sec.', 'east central elementary', 'east central senior secondary', 'crossroads area learning center', 'win-e-mac elementary', 'win-e-mac secondary', 'greenbush elementary', 'middle river elementary', 'greenbush-middle river senior high', 'greenbush-middle river junior high', 'winsted elementary', 'howard lake-waverly-winsted sec.', 'humphrey elementary', 'hlww alternative learning program', 'howard lake middle', 'hill elementary', 'heartland elementary', 'pipestone middle', 'pipestone senior high', 'mesabi east elementary', 'mesabi east secondary', 'fairmont elementary school', 'fairmont jr./sr. high school', 'long prairie-grey eagle elementary', 'long prairie-grey secondary school', 'cedar mountain elementary', 'cedar mountain secondary', 'eagle valley elementary', 'eagle valley secondary', 'morris area secondary', 'morris area elementary', 'zumbrota-mazeppa elementary school', 'zumbrota-mazeppa senior high', 'zumbrota-mazeppa middle school', 'janesville-waldorf-pemberton el.em.', 'janesville-waldorf-pemberton sec', 'madison-marietta-nassau elementary', 'appleton elementary', 'lac qui parle valley middle school', 'lac qui parle valley secondary', 'ada elementary', 'ada-borup secondary', 'argyle elementary', 'stephen senior high', 'lakeside elementary', 'lincoln junior high', 'glencoe-silver lake senior high', 'blue earth elementary', 'blue earth area secondary', 'blue earth area middle', 'winnebago elementary', 'red rock central secondary', 'red rock central elementary', 'glenville emmons elementary', 'glenville-emmons secondary', 'clinton-graceville-beardsley el.', 'clinton-graceville-beardsley sr.', 'lismore colony elementary', 'lake park audubon elementary', 'lake park audubon secondary', 'renville county west elementary', 'renville county west senior high', 'pleasantview elementary', 'jackson county central senior high', 'jackson county central middle', 'redwood valley senior high', 'reede gray elementary', 'redwood valley middle', 'walnut grove elementary', 'westbrook-walnut grove secondary', 'plainview-elgin-millville pk-3', 'plainview-elgin-millville 4-6', 'plainview-elgin-millville junior', 'plainview-elgin-millville high', 'rtr elementary school', 'rtr middle school', 'rtr high school', 'knoll elementary', 'ortonville secondary', 'tracy secondary', 'tracy elementary', 'le center pre k-8', 'tri-city united high school', 'montgomery pre k-8', 'lonsdale pre k-4', 'red lake county central elementary', 'red lake county central high school', 'round lake-brewster elementary', 'round lake-brewster secondary', 'brandon elementary', 'evansville elementary', 'brandon-evansville middle school', 'brandon-evansville high school', 'city academy', 'bluffview montessori', 'new heights school, inc.', 'cedar riverside community school', 'metro deaf school', 'minnesota new country school', 'minnesota new country elementary', 'pact charter school', 'pact charter secondary', 'athlos leadership academy', 'community of peace academy', 'community of peace academy sec.', 'world learner charter school', 'minnesota transitions charter elem', 'minnesota transitions middle', 'mts high school', 'virtual high school', 'mts pease academy', 'banaadir academy', 'mtcs connections academy', 'achieve language academy', 'north star academy', 'raleigh primary/el academy', 'cyber village academy', 'e.c.h.o. charter school', 'higher ground academy', 'higher ground secondary academy', 'st. paul city primary school', 'st. paul city middle school', 'odyssey academy', 'jennings experiential high school', 'harvest preparatory school', 'life prep', 'face to face academy', 'sojourner truth academy', 'high school for recording arts', 'twin cities academy', 'math and science academy', 'northwest passage high school', 'lafayette public charter school', 'starland elementary', 'north lakes academy', 'north lakes academy 56', 'la crescent montessori & stem acad', 'la crescent sec montessori/stem', 'nerstrand charter school', 'rochester off-campus charter high', 'el colegio charter school', 'schoolcraft learning community chtr', 'crosslake community charter school', 'crosslake community high school', 'riverway learning community chtr', 'riverway secondary', 'kato public charter school', 'aurora charter school', 'aurora middle school', 'excell academy charter', 'hope community academy', 'academia cesar chavez charter sch.', 'afsa high school', 'afsa middle school', 'avalon school', 'avalon middle school', 'twin cities international elem sch', 'mn international middle chr school', 'friendship acdmy of fine arts chtr.', 'pillager area charter school', 'discovery public school faribault', 'bluesky charter school', 'ridgeway community school', 'north shore community school', 'harbor city international charter', 'woodson institute for excellence ch', 'sage academy charter school', 'urban academy charter school', 'new city school', 'new city school - east campus', 'prairie creek community school', 'arcadia charter school', 'watershed high school', 'new century academy', 'trio wolf creek distance learning', 'partnership academy, inc.', 'nova classical academy', 'nova classical academy upper school', 'great expectations', 'community campus', 'unity campus', 'downtown campus', 'sabathani campus', 'hmong college prep academy hs', 'hmong college prep middle academy', 'paladin career and tech high school', 'great river school', 'treknorth high school', 'trek north middle school', 'voyageurs expeditionary school', 'voyageurs expeditionary ms', 'main street school performing arts', 'augsburg fairview academy', 'st paul conservatory performing art', 'fraser academy', 'minneapolis academy charter school', 'lakes international language admy', 'lakes intl language acad-headwaters', 'kaleidoscope charter school', 'kaleidoscope charter school jh', 'academic arts high school', 'st. croix preparatory academy lower', 'st croix preparatory academy middle', 'st. croix preparatory academy upper', 'ubah medical academy charter school', 'eagle ridge academy charter school', 'eagle ridge academy lower school', 'dakota area community school', 'beacon academy', 'prairie seeds el school academy', 'prairie seeds middle school academy', 'prairie seeds high school academy', 'team academy', 'metro schools charter', 'twin cities academy high school', 'rochester math and science academy', 'swan river montessori charter sch', 'milroy area charter school', 'loveworks academy for arts', 'yinghua academy', 'paideia academy charter school', 'stride academy charter school', 'stride academy middle school', 'new millenium academy charter sch', 'green isle community school', 'birch grove community school', 'northern lights community school', 'minnesota online high school', 'edvisions off campus school', 'twin cities german immersion chrtr', 'dugsi academy', 'naytahwaush community school', 'seven hills preparatory academy', 'seven hills prep academy upper', 'spectrum high school', 'spectrum middle school', 'new discoveries montessori academy', 'southside family charter school', 'learning for leadership charter', 'laura jeffrey academy charter', 'east range academy of tech-science', 'international spanish language acad', 'glacial hills elementary', 'stonebridge world school', 'hiawatha leadership acad-morris pk', 'hiawatha college prep', 'noble academy', 'clarkfield charter school', 'minisinaakwaang leadership academy', 'lincoln international school', 'community school of excellence', 'lionsgate academy', 'aspen academy', 'davinci academy', 'global academy', 'natural science academy', 'cologne academy', 'bright water elementary', 'rivers edge academy', 'kipp minnesota charter school', 'best academy', 'college preparatory elementary', 'cannon river stem school', 'oshki ogimaag charter school', 'discovery woods montessori school', 'parnassus prep sch-grammar', 'parnassus preparatory school-logic', 'step academy charter school', 'cornerstone montessori elementary', 'minneapolis college preparatory', 'rochester stem academy', 'hennepin elementary school', 'vermilion country school', 'nasha shkola charter school', 'mastery school', 'upper mississippi middle academy', 'west side summit charter school', 'west concord public charter school', 'sejong academy of minnesota', 'dream technical academy', 'venture academy', 'northeast college prep charter scho', 'saint cloud math and science academ', 'star of the north academy charter s', 'universal academy charter school', 'bdote learning center', 'art and science academy', 'woodbury leadership academy', 'minnesota math and science academy', 'freshwater ed. dist. alc', 'white pine academy', 'leaf river academy', 'zumbro area learning center', 'zumbro ed. dist. futures/choice', 'valley view alternative program', 'river valley academy alc', 'sail program', 'win program', 'runestone regional learning center', 'mn river valley alc-seatbased', 'mn river valley alc - ind. study', 'west central area learning center', 'beacon program w central ed. dist.', 'minnesota valley school', 'river bend area learning center', 'imprints program', 'reach programs', 'pathways program', 'cannon falls alc high school', 'tower view alternative high school', 'red wing high school independent st', 'fair school downtown', 'fair school crystal', 'valley crossing community school', 'central mn area learn cntr - foley', 'northland learning center 010', 'northland learning center 020', 'rum river north-south', 'swmetro - chaska special ed center', 'swmetro shakopee spec ed', 'swmetro river valley ed center', 'swmetro alc', 'swmetro ccj', 'swmetro online learning', 'swmetro day treatment', 'swmetro jaf', 'benton-stearns ed. district', 'benton-stearns education center', 'morrison county learning center', 'mid-state north']\n"
     ]
    }
   ],
   "source": [
    "# standardize capitalization\n",
    "std_school_df = data_df['SchoolName'].str.lower()\n",
    "# get list of unique names in the column\n",
    "unique_names = pd.unique(std_school_df).tolist()\n",
    "\n",
    "print(unique_names)"
   ]
  },
  {
   "cell_type": "code",
   "execution_count": 4,
   "metadata": {
    "collapsed": true
   },
   "outputs": [],
   "source": [
    "import googlemaps\n",
    "# You'll need your own API key\n",
    "# https://developers.google.com/maps/signup?hl=en\n",
    "\n",
    "# Read in my API key\n",
    "with open(\"api_key.txt\", \"r\") as file:\n",
    "    api_key = file.read()\n",
    "    \n",
    "# start gmaps api\n",
    "gmaps = googlemaps.Client(key=api_key)"
   ]
  },
  {
   "cell_type": "code",
   "execution_count": 28,
   "metadata": {
    "collapsed": false
   },
   "outputs": [
    {
     "name": "stdout",
     "output_type": "stream",
     "text": [
      "1892\n"
     ]
    }
   ],
   "source": [
    "# Good to keep API Rate Limits in mind.\n",
    "# https://developers.google.com/places/web-service/usage\n",
    "# 10 per second, 1000 a day\n",
    "# 150,000 if you verify with CC that you are not a bot\n",
    "print(len(unique_names))"
   ]
  },
  {
   "cell_type": "code",
   "execution_count": 5,
   "metadata": {
    "collapsed": false
   },
   "outputs": [
    {
     "ename": "Timeout",
     "evalue": "",
     "output_type": "error",
     "traceback": [
      "\u001b[0;31m---------------------------------------------------------------------------\u001b[0m",
      "\u001b[0;31m_RetriableRequest\u001b[0m                         Traceback (most recent call last)",
      "\u001b[0;32m/Users/dreyco676/anaconda3/anaconda/lib/python3.4/site-packages/googlemaps/client.py\u001b[0m in \u001b[0;36m_get\u001b[0;34m(self, url, params, first_request_time, retry_counter, base_url, accepts_clientid, extract_body, requests_kwargs)\u001b[0m\n\u001b[1;32m    222\u001b[0m             \u001b[0;32melse\u001b[0m\u001b[0;34m:\u001b[0m\u001b[0;34m\u001b[0m\u001b[0m\n\u001b[0;32m--> 223\u001b[0;31m                 \u001b[0mresult\u001b[0m \u001b[0;34m=\u001b[0m \u001b[0mself\u001b[0m\u001b[0;34m.\u001b[0m\u001b[0m_get_body\u001b[0m\u001b[0;34m(\u001b[0m\u001b[0mresp\u001b[0m\u001b[0;34m)\u001b[0m\u001b[0;34m\u001b[0m\u001b[0m\n\u001b[0m\u001b[1;32m    224\u001b[0m             \u001b[0mself\u001b[0m\u001b[0;34m.\u001b[0m\u001b[0msent_times\u001b[0m\u001b[0;34m.\u001b[0m\u001b[0mappend\u001b[0m\u001b[0;34m(\u001b[0m\u001b[0mtime\u001b[0m\u001b[0;34m.\u001b[0m\u001b[0mtime\u001b[0m\u001b[0;34m(\u001b[0m\u001b[0;34m)\u001b[0m\u001b[0;34m)\u001b[0m\u001b[0;34m\u001b[0m\u001b[0m\n",
      "\u001b[0;32m/Users/dreyco676/anaconda3/anaconda/lib/python3.4/site-packages/googlemaps/client.py\u001b[0m in \u001b[0;36m_get_body\u001b[0;34m(self, resp)\u001b[0m\n\u001b[1;32m    241\u001b[0m         \u001b[0;32mif\u001b[0m \u001b[0mapi_status\u001b[0m \u001b[0;34m==\u001b[0m \u001b[0;34m\"OVER_QUERY_LIMIT\"\u001b[0m\u001b[0;34m:\u001b[0m\u001b[0;34m\u001b[0m\u001b[0m\n\u001b[0;32m--> 242\u001b[0;31m             \u001b[0;32mraise\u001b[0m \u001b[0mgooglemaps\u001b[0m\u001b[0;34m.\u001b[0m\u001b[0mexceptions\u001b[0m\u001b[0;34m.\u001b[0m\u001b[0m_RetriableRequest\u001b[0m\u001b[0;34m(\u001b[0m\u001b[0;34m)\u001b[0m\u001b[0;34m\u001b[0m\u001b[0m\n\u001b[0m\u001b[1;32m    243\u001b[0m \u001b[0;34m\u001b[0m\u001b[0m\n",
      "\u001b[0;31m_RetriableRequest\u001b[0m: ",
      "\nDuring handling of the above exception, another exception occurred:\n",
      "\u001b[0;31m_RetriableRequest\u001b[0m                         Traceback (most recent call last)",
      "\u001b[0;32m/Users/dreyco676/anaconda3/anaconda/lib/python3.4/site-packages/googlemaps/client.py\u001b[0m in \u001b[0;36m_get\u001b[0;34m(self, url, params, first_request_time, retry_counter, base_url, accepts_clientid, extract_body, requests_kwargs)\u001b[0m\n\u001b[1;32m    222\u001b[0m             \u001b[0;32melse\u001b[0m\u001b[0;34m:\u001b[0m\u001b[0;34m\u001b[0m\u001b[0m\n\u001b[0;32m--> 223\u001b[0;31m                 \u001b[0mresult\u001b[0m \u001b[0;34m=\u001b[0m \u001b[0mself\u001b[0m\u001b[0;34m.\u001b[0m\u001b[0m_get_body\u001b[0m\u001b[0;34m(\u001b[0m\u001b[0mresp\u001b[0m\u001b[0;34m)\u001b[0m\u001b[0;34m\u001b[0m\u001b[0m\n\u001b[0m\u001b[1;32m    224\u001b[0m             \u001b[0mself\u001b[0m\u001b[0;34m.\u001b[0m\u001b[0msent_times\u001b[0m\u001b[0;34m.\u001b[0m\u001b[0mappend\u001b[0m\u001b[0;34m(\u001b[0m\u001b[0mtime\u001b[0m\u001b[0;34m.\u001b[0m\u001b[0mtime\u001b[0m\u001b[0;34m(\u001b[0m\u001b[0;34m)\u001b[0m\u001b[0;34m)\u001b[0m\u001b[0;34m\u001b[0m\u001b[0m\n",
      "\u001b[0;32m/Users/dreyco676/anaconda3/anaconda/lib/python3.4/site-packages/googlemaps/client.py\u001b[0m in \u001b[0;36m_get_body\u001b[0;34m(self, resp)\u001b[0m\n\u001b[1;32m    241\u001b[0m         \u001b[0;32mif\u001b[0m \u001b[0mapi_status\u001b[0m \u001b[0;34m==\u001b[0m \u001b[0;34m\"OVER_QUERY_LIMIT\"\u001b[0m\u001b[0;34m:\u001b[0m\u001b[0;34m\u001b[0m\u001b[0m\n\u001b[0;32m--> 242\u001b[0;31m             \u001b[0;32mraise\u001b[0m \u001b[0mgooglemaps\u001b[0m\u001b[0;34m.\u001b[0m\u001b[0mexceptions\u001b[0m\u001b[0;34m.\u001b[0m\u001b[0m_RetriableRequest\u001b[0m\u001b[0;34m(\u001b[0m\u001b[0;34m)\u001b[0m\u001b[0;34m\u001b[0m\u001b[0m\n\u001b[0m\u001b[1;32m    243\u001b[0m \u001b[0;34m\u001b[0m\u001b[0m\n",
      "\u001b[0;31m_RetriableRequest\u001b[0m: ",
      "\nDuring handling of the above exception, another exception occurred:\n",
      "\u001b[0;31m_RetriableRequest\u001b[0m                         Traceback (most recent call last)",
      "\u001b[0;32m/Users/dreyco676/anaconda3/anaconda/lib/python3.4/site-packages/googlemaps/client.py\u001b[0m in \u001b[0;36m_get\u001b[0;34m(self, url, params, first_request_time, retry_counter, base_url, accepts_clientid, extract_body, requests_kwargs)\u001b[0m\n\u001b[1;32m    222\u001b[0m             \u001b[0;32melse\u001b[0m\u001b[0;34m:\u001b[0m\u001b[0;34m\u001b[0m\u001b[0m\n\u001b[0;32m--> 223\u001b[0;31m                 \u001b[0mresult\u001b[0m \u001b[0;34m=\u001b[0m \u001b[0mself\u001b[0m\u001b[0;34m.\u001b[0m\u001b[0m_get_body\u001b[0m\u001b[0;34m(\u001b[0m\u001b[0mresp\u001b[0m\u001b[0;34m)\u001b[0m\u001b[0;34m\u001b[0m\u001b[0m\n\u001b[0m\u001b[1;32m    224\u001b[0m             \u001b[0mself\u001b[0m\u001b[0;34m.\u001b[0m\u001b[0msent_times\u001b[0m\u001b[0;34m.\u001b[0m\u001b[0mappend\u001b[0m\u001b[0;34m(\u001b[0m\u001b[0mtime\u001b[0m\u001b[0;34m.\u001b[0m\u001b[0mtime\u001b[0m\u001b[0;34m(\u001b[0m\u001b[0;34m)\u001b[0m\u001b[0;34m)\u001b[0m\u001b[0;34m\u001b[0m\u001b[0m\n",
      "\u001b[0;32m/Users/dreyco676/anaconda3/anaconda/lib/python3.4/site-packages/googlemaps/client.py\u001b[0m in \u001b[0;36m_get_body\u001b[0;34m(self, resp)\u001b[0m\n\u001b[1;32m    241\u001b[0m         \u001b[0;32mif\u001b[0m \u001b[0mapi_status\u001b[0m \u001b[0;34m==\u001b[0m \u001b[0;34m\"OVER_QUERY_LIMIT\"\u001b[0m\u001b[0;34m:\u001b[0m\u001b[0;34m\u001b[0m\u001b[0m\n\u001b[0;32m--> 242\u001b[0;31m             \u001b[0;32mraise\u001b[0m \u001b[0mgooglemaps\u001b[0m\u001b[0;34m.\u001b[0m\u001b[0mexceptions\u001b[0m\u001b[0;34m.\u001b[0m\u001b[0m_RetriableRequest\u001b[0m\u001b[0;34m(\u001b[0m\u001b[0;34m)\u001b[0m\u001b[0;34m\u001b[0m\u001b[0m\n\u001b[0m\u001b[1;32m    243\u001b[0m \u001b[0;34m\u001b[0m\u001b[0m\n",
      "\u001b[0;31m_RetriableRequest\u001b[0m: ",
      "\nDuring handling of the above exception, another exception occurred:\n",
      "\u001b[0;31m_RetriableRequest\u001b[0m                         Traceback (most recent call last)",
      "\u001b[0;32m/Users/dreyco676/anaconda3/anaconda/lib/python3.4/site-packages/googlemaps/client.py\u001b[0m in \u001b[0;36m_get\u001b[0;34m(self, url, params, first_request_time, retry_counter, base_url, accepts_clientid, extract_body, requests_kwargs)\u001b[0m\n\u001b[1;32m    222\u001b[0m             \u001b[0;32melse\u001b[0m\u001b[0;34m:\u001b[0m\u001b[0;34m\u001b[0m\u001b[0m\n\u001b[0;32m--> 223\u001b[0;31m                 \u001b[0mresult\u001b[0m \u001b[0;34m=\u001b[0m \u001b[0mself\u001b[0m\u001b[0;34m.\u001b[0m\u001b[0m_get_body\u001b[0m\u001b[0;34m(\u001b[0m\u001b[0mresp\u001b[0m\u001b[0;34m)\u001b[0m\u001b[0;34m\u001b[0m\u001b[0m\n\u001b[0m\u001b[1;32m    224\u001b[0m             \u001b[0mself\u001b[0m\u001b[0;34m.\u001b[0m\u001b[0msent_times\u001b[0m\u001b[0;34m.\u001b[0m\u001b[0mappend\u001b[0m\u001b[0;34m(\u001b[0m\u001b[0mtime\u001b[0m\u001b[0;34m.\u001b[0m\u001b[0mtime\u001b[0m\u001b[0;34m(\u001b[0m\u001b[0;34m)\u001b[0m\u001b[0;34m)\u001b[0m\u001b[0;34m\u001b[0m\u001b[0m\n",
      "\u001b[0;32m/Users/dreyco676/anaconda3/anaconda/lib/python3.4/site-packages/googlemaps/client.py\u001b[0m in \u001b[0;36m_get_body\u001b[0;34m(self, resp)\u001b[0m\n\u001b[1;32m    241\u001b[0m         \u001b[0;32mif\u001b[0m \u001b[0mapi_status\u001b[0m \u001b[0;34m==\u001b[0m \u001b[0;34m\"OVER_QUERY_LIMIT\"\u001b[0m\u001b[0;34m:\u001b[0m\u001b[0;34m\u001b[0m\u001b[0m\n\u001b[0;32m--> 242\u001b[0;31m             \u001b[0;32mraise\u001b[0m \u001b[0mgooglemaps\u001b[0m\u001b[0;34m.\u001b[0m\u001b[0mexceptions\u001b[0m\u001b[0;34m.\u001b[0m\u001b[0m_RetriableRequest\u001b[0m\u001b[0;34m(\u001b[0m\u001b[0;34m)\u001b[0m\u001b[0;34m\u001b[0m\u001b[0m\n\u001b[0m\u001b[1;32m    243\u001b[0m \u001b[0;34m\u001b[0m\u001b[0m\n",
      "\u001b[0;31m_RetriableRequest\u001b[0m: ",
      "\nDuring handling of the above exception, another exception occurred:\n",
      "\u001b[0;31m_RetriableRequest\u001b[0m                         Traceback (most recent call last)",
      "\u001b[0;32m/Users/dreyco676/anaconda3/anaconda/lib/python3.4/site-packages/googlemaps/client.py\u001b[0m in \u001b[0;36m_get\u001b[0;34m(self, url, params, first_request_time, retry_counter, base_url, accepts_clientid, extract_body, requests_kwargs)\u001b[0m\n\u001b[1;32m    222\u001b[0m             \u001b[0;32melse\u001b[0m\u001b[0;34m:\u001b[0m\u001b[0;34m\u001b[0m\u001b[0m\n\u001b[0;32m--> 223\u001b[0;31m                 \u001b[0mresult\u001b[0m \u001b[0;34m=\u001b[0m \u001b[0mself\u001b[0m\u001b[0;34m.\u001b[0m\u001b[0m_get_body\u001b[0m\u001b[0;34m(\u001b[0m\u001b[0mresp\u001b[0m\u001b[0;34m)\u001b[0m\u001b[0;34m\u001b[0m\u001b[0m\n\u001b[0m\u001b[1;32m    224\u001b[0m             \u001b[0mself\u001b[0m\u001b[0;34m.\u001b[0m\u001b[0msent_times\u001b[0m\u001b[0;34m.\u001b[0m\u001b[0mappend\u001b[0m\u001b[0;34m(\u001b[0m\u001b[0mtime\u001b[0m\u001b[0;34m.\u001b[0m\u001b[0mtime\u001b[0m\u001b[0;34m(\u001b[0m\u001b[0;34m)\u001b[0m\u001b[0;34m)\u001b[0m\u001b[0;34m\u001b[0m\u001b[0m\n",
      "\u001b[0;32m/Users/dreyco676/anaconda3/anaconda/lib/python3.4/site-packages/googlemaps/client.py\u001b[0m in \u001b[0;36m_get_body\u001b[0;34m(self, resp)\u001b[0m\n\u001b[1;32m    241\u001b[0m         \u001b[0;32mif\u001b[0m \u001b[0mapi_status\u001b[0m \u001b[0;34m==\u001b[0m \u001b[0;34m\"OVER_QUERY_LIMIT\"\u001b[0m\u001b[0;34m:\u001b[0m\u001b[0;34m\u001b[0m\u001b[0m\n\u001b[0;32m--> 242\u001b[0;31m             \u001b[0;32mraise\u001b[0m \u001b[0mgooglemaps\u001b[0m\u001b[0;34m.\u001b[0m\u001b[0mexceptions\u001b[0m\u001b[0;34m.\u001b[0m\u001b[0m_RetriableRequest\u001b[0m\u001b[0;34m(\u001b[0m\u001b[0;34m)\u001b[0m\u001b[0;34m\u001b[0m\u001b[0m\n\u001b[0m\u001b[1;32m    243\u001b[0m \u001b[0;34m\u001b[0m\u001b[0m\n",
      "\u001b[0;31m_RetriableRequest\u001b[0m: ",
      "\nDuring handling of the above exception, another exception occurred:\n",
      "\u001b[0;31m_RetriableRequest\u001b[0m                         Traceback (most recent call last)",
      "\u001b[0;32m/Users/dreyco676/anaconda3/anaconda/lib/python3.4/site-packages/googlemaps/client.py\u001b[0m in \u001b[0;36m_get\u001b[0;34m(self, url, params, first_request_time, retry_counter, base_url, accepts_clientid, extract_body, requests_kwargs)\u001b[0m\n\u001b[1;32m    222\u001b[0m             \u001b[0;32melse\u001b[0m\u001b[0;34m:\u001b[0m\u001b[0;34m\u001b[0m\u001b[0m\n\u001b[0;32m--> 223\u001b[0;31m                 \u001b[0mresult\u001b[0m \u001b[0;34m=\u001b[0m \u001b[0mself\u001b[0m\u001b[0;34m.\u001b[0m\u001b[0m_get_body\u001b[0m\u001b[0;34m(\u001b[0m\u001b[0mresp\u001b[0m\u001b[0;34m)\u001b[0m\u001b[0;34m\u001b[0m\u001b[0m\n\u001b[0m\u001b[1;32m    224\u001b[0m             \u001b[0mself\u001b[0m\u001b[0;34m.\u001b[0m\u001b[0msent_times\u001b[0m\u001b[0;34m.\u001b[0m\u001b[0mappend\u001b[0m\u001b[0;34m(\u001b[0m\u001b[0mtime\u001b[0m\u001b[0;34m.\u001b[0m\u001b[0mtime\u001b[0m\u001b[0;34m(\u001b[0m\u001b[0;34m)\u001b[0m\u001b[0;34m)\u001b[0m\u001b[0;34m\u001b[0m\u001b[0m\n",
      "\u001b[0;32m/Users/dreyco676/anaconda3/anaconda/lib/python3.4/site-packages/googlemaps/client.py\u001b[0m in \u001b[0;36m_get_body\u001b[0;34m(self, resp)\u001b[0m\n\u001b[1;32m    241\u001b[0m         \u001b[0;32mif\u001b[0m \u001b[0mapi_status\u001b[0m \u001b[0;34m==\u001b[0m \u001b[0;34m\"OVER_QUERY_LIMIT\"\u001b[0m\u001b[0;34m:\u001b[0m\u001b[0;34m\u001b[0m\u001b[0m\n\u001b[0;32m--> 242\u001b[0;31m             \u001b[0;32mraise\u001b[0m \u001b[0mgooglemaps\u001b[0m\u001b[0;34m.\u001b[0m\u001b[0mexceptions\u001b[0m\u001b[0;34m.\u001b[0m\u001b[0m_RetriableRequest\u001b[0m\u001b[0;34m(\u001b[0m\u001b[0;34m)\u001b[0m\u001b[0;34m\u001b[0m\u001b[0m\n\u001b[0m\u001b[1;32m    243\u001b[0m \u001b[0;34m\u001b[0m\u001b[0m\n",
      "\u001b[0;31m_RetriableRequest\u001b[0m: ",
      "\nDuring handling of the above exception, another exception occurred:\n",
      "\u001b[0;31m_RetriableRequest\u001b[0m                         Traceback (most recent call last)",
      "\u001b[0;32m/Users/dreyco676/anaconda3/anaconda/lib/python3.4/site-packages/googlemaps/client.py\u001b[0m in \u001b[0;36m_get\u001b[0;34m(self, url, params, first_request_time, retry_counter, base_url, accepts_clientid, extract_body, requests_kwargs)\u001b[0m\n\u001b[1;32m    222\u001b[0m             \u001b[0;32melse\u001b[0m\u001b[0;34m:\u001b[0m\u001b[0;34m\u001b[0m\u001b[0m\n\u001b[0;32m--> 223\u001b[0;31m                 \u001b[0mresult\u001b[0m \u001b[0;34m=\u001b[0m \u001b[0mself\u001b[0m\u001b[0;34m.\u001b[0m\u001b[0m_get_body\u001b[0m\u001b[0;34m(\u001b[0m\u001b[0mresp\u001b[0m\u001b[0;34m)\u001b[0m\u001b[0;34m\u001b[0m\u001b[0m\n\u001b[0m\u001b[1;32m    224\u001b[0m             \u001b[0mself\u001b[0m\u001b[0;34m.\u001b[0m\u001b[0msent_times\u001b[0m\u001b[0;34m.\u001b[0m\u001b[0mappend\u001b[0m\u001b[0;34m(\u001b[0m\u001b[0mtime\u001b[0m\u001b[0;34m.\u001b[0m\u001b[0mtime\u001b[0m\u001b[0;34m(\u001b[0m\u001b[0;34m)\u001b[0m\u001b[0;34m)\u001b[0m\u001b[0;34m\u001b[0m\u001b[0m\n",
      "\u001b[0;32m/Users/dreyco676/anaconda3/anaconda/lib/python3.4/site-packages/googlemaps/client.py\u001b[0m in \u001b[0;36m_get_body\u001b[0;34m(self, resp)\u001b[0m\n\u001b[1;32m    241\u001b[0m         \u001b[0;32mif\u001b[0m \u001b[0mapi_status\u001b[0m \u001b[0;34m==\u001b[0m \u001b[0;34m\"OVER_QUERY_LIMIT\"\u001b[0m\u001b[0;34m:\u001b[0m\u001b[0;34m\u001b[0m\u001b[0m\n\u001b[0;32m--> 242\u001b[0;31m             \u001b[0;32mraise\u001b[0m \u001b[0mgooglemaps\u001b[0m\u001b[0;34m.\u001b[0m\u001b[0mexceptions\u001b[0m\u001b[0;34m.\u001b[0m\u001b[0m_RetriableRequest\u001b[0m\u001b[0;34m(\u001b[0m\u001b[0;34m)\u001b[0m\u001b[0;34m\u001b[0m\u001b[0m\n\u001b[0m\u001b[1;32m    243\u001b[0m \u001b[0;34m\u001b[0m\u001b[0m\n",
      "\u001b[0;31m_RetriableRequest\u001b[0m: ",
      "\nDuring handling of the above exception, another exception occurred:\n",
      "\u001b[0;31m_RetriableRequest\u001b[0m                         Traceback (most recent call last)",
      "\u001b[0;32m/Users/dreyco676/anaconda3/anaconda/lib/python3.4/site-packages/googlemaps/client.py\u001b[0m in \u001b[0;36m_get\u001b[0;34m(self, url, params, first_request_time, retry_counter, base_url, accepts_clientid, extract_body, requests_kwargs)\u001b[0m\n\u001b[1;32m    222\u001b[0m             \u001b[0;32melse\u001b[0m\u001b[0;34m:\u001b[0m\u001b[0;34m\u001b[0m\u001b[0m\n\u001b[0;32m--> 223\u001b[0;31m                 \u001b[0mresult\u001b[0m \u001b[0;34m=\u001b[0m \u001b[0mself\u001b[0m\u001b[0;34m.\u001b[0m\u001b[0m_get_body\u001b[0m\u001b[0;34m(\u001b[0m\u001b[0mresp\u001b[0m\u001b[0;34m)\u001b[0m\u001b[0;34m\u001b[0m\u001b[0m\n\u001b[0m\u001b[1;32m    224\u001b[0m             \u001b[0mself\u001b[0m\u001b[0;34m.\u001b[0m\u001b[0msent_times\u001b[0m\u001b[0;34m.\u001b[0m\u001b[0mappend\u001b[0m\u001b[0;34m(\u001b[0m\u001b[0mtime\u001b[0m\u001b[0;34m.\u001b[0m\u001b[0mtime\u001b[0m\u001b[0;34m(\u001b[0m\u001b[0;34m)\u001b[0m\u001b[0;34m)\u001b[0m\u001b[0;34m\u001b[0m\u001b[0m\n",
      "\u001b[0;32m/Users/dreyco676/anaconda3/anaconda/lib/python3.4/site-packages/googlemaps/client.py\u001b[0m in \u001b[0;36m_get_body\u001b[0;34m(self, resp)\u001b[0m\n\u001b[1;32m    241\u001b[0m         \u001b[0;32mif\u001b[0m \u001b[0mapi_status\u001b[0m \u001b[0;34m==\u001b[0m \u001b[0;34m\"OVER_QUERY_LIMIT\"\u001b[0m\u001b[0;34m:\u001b[0m\u001b[0;34m\u001b[0m\u001b[0m\n\u001b[0;32m--> 242\u001b[0;31m             \u001b[0;32mraise\u001b[0m \u001b[0mgooglemaps\u001b[0m\u001b[0;34m.\u001b[0m\u001b[0mexceptions\u001b[0m\u001b[0;34m.\u001b[0m\u001b[0m_RetriableRequest\u001b[0m\u001b[0;34m(\u001b[0m\u001b[0;34m)\u001b[0m\u001b[0;34m\u001b[0m\u001b[0m\n\u001b[0m\u001b[1;32m    243\u001b[0m \u001b[0;34m\u001b[0m\u001b[0m\n",
      "\u001b[0;31m_RetriableRequest\u001b[0m: ",
      "\nDuring handling of the above exception, another exception occurred:\n",
      "\u001b[0;31m_RetriableRequest\u001b[0m                         Traceback (most recent call last)",
      "\u001b[0;32m/Users/dreyco676/anaconda3/anaconda/lib/python3.4/site-packages/googlemaps/client.py\u001b[0m in \u001b[0;36m_get\u001b[0;34m(self, url, params, first_request_time, retry_counter, base_url, accepts_clientid, extract_body, requests_kwargs)\u001b[0m\n\u001b[1;32m    222\u001b[0m             \u001b[0;32melse\u001b[0m\u001b[0;34m:\u001b[0m\u001b[0;34m\u001b[0m\u001b[0m\n\u001b[0;32m--> 223\u001b[0;31m                 \u001b[0mresult\u001b[0m \u001b[0;34m=\u001b[0m \u001b[0mself\u001b[0m\u001b[0;34m.\u001b[0m\u001b[0m_get_body\u001b[0m\u001b[0;34m(\u001b[0m\u001b[0mresp\u001b[0m\u001b[0;34m)\u001b[0m\u001b[0;34m\u001b[0m\u001b[0m\n\u001b[0m\u001b[1;32m    224\u001b[0m             \u001b[0mself\u001b[0m\u001b[0;34m.\u001b[0m\u001b[0msent_times\u001b[0m\u001b[0;34m.\u001b[0m\u001b[0mappend\u001b[0m\u001b[0;34m(\u001b[0m\u001b[0mtime\u001b[0m\u001b[0;34m.\u001b[0m\u001b[0mtime\u001b[0m\u001b[0;34m(\u001b[0m\u001b[0;34m)\u001b[0m\u001b[0;34m)\u001b[0m\u001b[0;34m\u001b[0m\u001b[0m\n",
      "\u001b[0;32m/Users/dreyco676/anaconda3/anaconda/lib/python3.4/site-packages/googlemaps/client.py\u001b[0m in \u001b[0;36m_get_body\u001b[0;34m(self, resp)\u001b[0m\n\u001b[1;32m    241\u001b[0m         \u001b[0;32mif\u001b[0m \u001b[0mapi_status\u001b[0m \u001b[0;34m==\u001b[0m \u001b[0;34m\"OVER_QUERY_LIMIT\"\u001b[0m\u001b[0;34m:\u001b[0m\u001b[0;34m\u001b[0m\u001b[0m\n\u001b[0;32m--> 242\u001b[0;31m             \u001b[0;32mraise\u001b[0m \u001b[0mgooglemaps\u001b[0m\u001b[0;34m.\u001b[0m\u001b[0mexceptions\u001b[0m\u001b[0;34m.\u001b[0m\u001b[0m_RetriableRequest\u001b[0m\u001b[0;34m(\u001b[0m\u001b[0;34m)\u001b[0m\u001b[0;34m\u001b[0m\u001b[0m\n\u001b[0m\u001b[1;32m    243\u001b[0m \u001b[0;34m\u001b[0m\u001b[0m\n",
      "\u001b[0;31m_RetriableRequest\u001b[0m: ",
      "\nDuring handling of the above exception, another exception occurred:\n",
      "\u001b[0;31m_RetriableRequest\u001b[0m                         Traceback (most recent call last)",
      "\u001b[0;32m/Users/dreyco676/anaconda3/anaconda/lib/python3.4/site-packages/googlemaps/client.py\u001b[0m in \u001b[0;36m_get\u001b[0;34m(self, url, params, first_request_time, retry_counter, base_url, accepts_clientid, extract_body, requests_kwargs)\u001b[0m\n\u001b[1;32m    222\u001b[0m             \u001b[0;32melse\u001b[0m\u001b[0;34m:\u001b[0m\u001b[0;34m\u001b[0m\u001b[0m\n\u001b[0;32m--> 223\u001b[0;31m                 \u001b[0mresult\u001b[0m \u001b[0;34m=\u001b[0m \u001b[0mself\u001b[0m\u001b[0;34m.\u001b[0m\u001b[0m_get_body\u001b[0m\u001b[0;34m(\u001b[0m\u001b[0mresp\u001b[0m\u001b[0;34m)\u001b[0m\u001b[0;34m\u001b[0m\u001b[0m\n\u001b[0m\u001b[1;32m    224\u001b[0m             \u001b[0mself\u001b[0m\u001b[0;34m.\u001b[0m\u001b[0msent_times\u001b[0m\u001b[0;34m.\u001b[0m\u001b[0mappend\u001b[0m\u001b[0;34m(\u001b[0m\u001b[0mtime\u001b[0m\u001b[0;34m.\u001b[0m\u001b[0mtime\u001b[0m\u001b[0;34m(\u001b[0m\u001b[0;34m)\u001b[0m\u001b[0;34m)\u001b[0m\u001b[0;34m\u001b[0m\u001b[0m\n",
      "\u001b[0;32m/Users/dreyco676/anaconda3/anaconda/lib/python3.4/site-packages/googlemaps/client.py\u001b[0m in \u001b[0;36m_get_body\u001b[0;34m(self, resp)\u001b[0m\n\u001b[1;32m    241\u001b[0m         \u001b[0;32mif\u001b[0m \u001b[0mapi_status\u001b[0m \u001b[0;34m==\u001b[0m \u001b[0;34m\"OVER_QUERY_LIMIT\"\u001b[0m\u001b[0;34m:\u001b[0m\u001b[0;34m\u001b[0m\u001b[0m\n\u001b[0;32m--> 242\u001b[0;31m             \u001b[0;32mraise\u001b[0m \u001b[0mgooglemaps\u001b[0m\u001b[0;34m.\u001b[0m\u001b[0mexceptions\u001b[0m\u001b[0;34m.\u001b[0m\u001b[0m_RetriableRequest\u001b[0m\u001b[0;34m(\u001b[0m\u001b[0;34m)\u001b[0m\u001b[0;34m\u001b[0m\u001b[0m\n\u001b[0m\u001b[1;32m    243\u001b[0m \u001b[0;34m\u001b[0m\u001b[0m\n",
      "\u001b[0;31m_RetriableRequest\u001b[0m: ",
      "\nDuring handling of the above exception, another exception occurred:\n",
      "\u001b[0;31m_RetriableRequest\u001b[0m                         Traceback (most recent call last)",
      "\u001b[0;32m/Users/dreyco676/anaconda3/anaconda/lib/python3.4/site-packages/googlemaps/client.py\u001b[0m in \u001b[0;36m_get\u001b[0;34m(self, url, params, first_request_time, retry_counter, base_url, accepts_clientid, extract_body, requests_kwargs)\u001b[0m\n\u001b[1;32m    222\u001b[0m             \u001b[0;32melse\u001b[0m\u001b[0;34m:\u001b[0m\u001b[0;34m\u001b[0m\u001b[0m\n\u001b[0;32m--> 223\u001b[0;31m                 \u001b[0mresult\u001b[0m \u001b[0;34m=\u001b[0m \u001b[0mself\u001b[0m\u001b[0;34m.\u001b[0m\u001b[0m_get_body\u001b[0m\u001b[0;34m(\u001b[0m\u001b[0mresp\u001b[0m\u001b[0;34m)\u001b[0m\u001b[0;34m\u001b[0m\u001b[0m\n\u001b[0m\u001b[1;32m    224\u001b[0m             \u001b[0mself\u001b[0m\u001b[0;34m.\u001b[0m\u001b[0msent_times\u001b[0m\u001b[0;34m.\u001b[0m\u001b[0mappend\u001b[0m\u001b[0;34m(\u001b[0m\u001b[0mtime\u001b[0m\u001b[0;34m.\u001b[0m\u001b[0mtime\u001b[0m\u001b[0;34m(\u001b[0m\u001b[0;34m)\u001b[0m\u001b[0;34m)\u001b[0m\u001b[0;34m\u001b[0m\u001b[0m\n",
      "\u001b[0;32m/Users/dreyco676/anaconda3/anaconda/lib/python3.4/site-packages/googlemaps/client.py\u001b[0m in \u001b[0;36m_get_body\u001b[0;34m(self, resp)\u001b[0m\n\u001b[1;32m    241\u001b[0m         \u001b[0;32mif\u001b[0m \u001b[0mapi_status\u001b[0m \u001b[0;34m==\u001b[0m \u001b[0;34m\"OVER_QUERY_LIMIT\"\u001b[0m\u001b[0;34m:\u001b[0m\u001b[0;34m\u001b[0m\u001b[0m\n\u001b[0;32m--> 242\u001b[0;31m             \u001b[0;32mraise\u001b[0m \u001b[0mgooglemaps\u001b[0m\u001b[0;34m.\u001b[0m\u001b[0mexceptions\u001b[0m\u001b[0;34m.\u001b[0m\u001b[0m_RetriableRequest\u001b[0m\u001b[0;34m(\u001b[0m\u001b[0;34m)\u001b[0m\u001b[0;34m\u001b[0m\u001b[0m\n\u001b[0m\u001b[1;32m    243\u001b[0m \u001b[0;34m\u001b[0m\u001b[0m\n",
      "\u001b[0;31m_RetriableRequest\u001b[0m: ",
      "\nDuring handling of the above exception, another exception occurred:\n",
      "\u001b[0;31mTimeout\u001b[0m                                   Traceback (most recent call last)",
      "\u001b[0;32m<ipython-input-5-0782e6a589a3>\u001b[0m in \u001b[0;36m<module>\u001b[0;34m()\u001b[0m\n\u001b[1;32m      2\u001b[0m \u001b[0;31m# use google maps places API to get geolocation information\u001b[0m\u001b[0;34m\u001b[0m\u001b[0;34m\u001b[0m\u001b[0m\n\u001b[1;32m      3\u001b[0m \u001b[0mloc\u001b[0m \u001b[0;34m=\u001b[0m \u001b[0;34m'AITKIN SECONDARY SCHOOL'\u001b[0m\u001b[0;34m\u001b[0m\u001b[0m\n\u001b[0;32m----> 4\u001b[0;31m \u001b[0mgmaps_json\u001b[0m \u001b[0;34m=\u001b[0m \u001b[0mgmaps\u001b[0m\u001b[0;34m.\u001b[0m\u001b[0mplaces\u001b[0m\u001b[0;34m(\u001b[0m\u001b[0mloc\u001b[0m\u001b[0;34m,\u001b[0m \u001b[0mlocation\u001b[0m\u001b[0;34m=\u001b[0m\u001b[0;34m'Minnesota'\u001b[0m\u001b[0;34m,\u001b[0m \u001b[0mradius\u001b[0m\u001b[0;34m=\u001b[0m\u001b[0;36m1000\u001b[0m\u001b[0;34m,\u001b[0m \u001b[0mtypes\u001b[0m\u001b[0;34m=\u001b[0m\u001b[0;34m'school'\u001b[0m\u001b[0;34m)\u001b[0m\u001b[0;34m\u001b[0m\u001b[0m\n\u001b[0m\u001b[1;32m      5\u001b[0m \u001b[0;34m\u001b[0m\u001b[0m\n\u001b[1;32m      6\u001b[0m \u001b[0;31m# use pretty print library to have nicer looking output\u001b[0m\u001b[0;34m\u001b[0m\u001b[0;34m\u001b[0m\u001b[0m\n",
      "\u001b[0;32m/Users/dreyco676/anaconda3/anaconda/lib/python3.4/site-packages/googlemaps/places.py\u001b[0m in \u001b[0;36mplaces\u001b[0;34m(client, query, location, radius, language, min_price, max_price, open_now, types, page_token)\u001b[0m\n\u001b[1;32m     85\u001b[0m         \u001b[0mparams\u001b[0m\u001b[0;34m[\u001b[0m\u001b[0;34m\"pagetoken\"\u001b[0m\u001b[0;34m]\u001b[0m \u001b[0;34m=\u001b[0m \u001b[0mpage_token\u001b[0m\u001b[0;34m\u001b[0m\u001b[0m\n\u001b[1;32m     86\u001b[0m \u001b[0;34m\u001b[0m\u001b[0m\n\u001b[0;32m---> 87\u001b[0;31m     \u001b[0;32mreturn\u001b[0m \u001b[0mclient\u001b[0m\u001b[0;34m.\u001b[0m\u001b[0m_get\u001b[0m\u001b[0;34m(\u001b[0m\u001b[0;34m\"/maps/api/place/textsearch/json\"\u001b[0m\u001b[0;34m,\u001b[0m \u001b[0mparams\u001b[0m\u001b[0;34m)\u001b[0m\u001b[0;34m\u001b[0m\u001b[0m\n\u001b[0m\u001b[1;32m     88\u001b[0m \u001b[0;34m\u001b[0m\u001b[0m\n\u001b[1;32m     89\u001b[0m \u001b[0;34m\u001b[0m\u001b[0m\n",
      "\u001b[0;32m/Users/dreyco676/anaconda3/anaconda/lib/python3.4/site-packages/googlemaps/client.py\u001b[0m in \u001b[0;36m_get\u001b[0;34m(self, url, params, first_request_time, retry_counter, base_url, accepts_clientid, extract_body, requests_kwargs)\u001b[0m\n\u001b[1;32m    227\u001b[0m             \u001b[0;31m# Retry request.\u001b[0m\u001b[0;34m\u001b[0m\u001b[0;34m\u001b[0m\u001b[0m\n\u001b[1;32m    228\u001b[0m             return self._get(url, params, first_request_time, retry_counter + 1,\n\u001b[0;32m--> 229\u001b[0;31m                              base_url, accepts_clientid, extract_body)\n\u001b[0m\u001b[1;32m    230\u001b[0m \u001b[0;34m\u001b[0m\u001b[0m\n\u001b[1;32m    231\u001b[0m     \u001b[0;32mdef\u001b[0m \u001b[0m_get_body\u001b[0m\u001b[0;34m(\u001b[0m\u001b[0mself\u001b[0m\u001b[0;34m,\u001b[0m \u001b[0mresp\u001b[0m\u001b[0;34m)\u001b[0m\u001b[0;34m:\u001b[0m\u001b[0;34m\u001b[0m\u001b[0m\n",
      "\u001b[0;32m/Users/dreyco676/anaconda3/anaconda/lib/python3.4/site-packages/googlemaps/client.py\u001b[0m in \u001b[0;36m_get\u001b[0;34m(self, url, params, first_request_time, retry_counter, base_url, accepts_clientid, extract_body, requests_kwargs)\u001b[0m\n\u001b[1;32m    227\u001b[0m             \u001b[0;31m# Retry request.\u001b[0m\u001b[0;34m\u001b[0m\u001b[0;34m\u001b[0m\u001b[0m\n\u001b[1;32m    228\u001b[0m             return self._get(url, params, first_request_time, retry_counter + 1,\n\u001b[0;32m--> 229\u001b[0;31m                              base_url, accepts_clientid, extract_body)\n\u001b[0m\u001b[1;32m    230\u001b[0m \u001b[0;34m\u001b[0m\u001b[0m\n\u001b[1;32m    231\u001b[0m     \u001b[0;32mdef\u001b[0m \u001b[0m_get_body\u001b[0m\u001b[0;34m(\u001b[0m\u001b[0mself\u001b[0m\u001b[0;34m,\u001b[0m \u001b[0mresp\u001b[0m\u001b[0;34m)\u001b[0m\u001b[0;34m:\u001b[0m\u001b[0;34m\u001b[0m\u001b[0m\n",
      "\u001b[0;32m/Users/dreyco676/anaconda3/anaconda/lib/python3.4/site-packages/googlemaps/client.py\u001b[0m in \u001b[0;36m_get\u001b[0;34m(self, url, params, first_request_time, retry_counter, base_url, accepts_clientid, extract_body, requests_kwargs)\u001b[0m\n\u001b[1;32m    227\u001b[0m             \u001b[0;31m# Retry request.\u001b[0m\u001b[0;34m\u001b[0m\u001b[0;34m\u001b[0m\u001b[0m\n\u001b[1;32m    228\u001b[0m             return self._get(url, params, first_request_time, retry_counter + 1,\n\u001b[0;32m--> 229\u001b[0;31m                              base_url, accepts_clientid, extract_body)\n\u001b[0m\u001b[1;32m    230\u001b[0m \u001b[0;34m\u001b[0m\u001b[0m\n\u001b[1;32m    231\u001b[0m     \u001b[0;32mdef\u001b[0m \u001b[0m_get_body\u001b[0m\u001b[0;34m(\u001b[0m\u001b[0mself\u001b[0m\u001b[0;34m,\u001b[0m \u001b[0mresp\u001b[0m\u001b[0;34m)\u001b[0m\u001b[0;34m:\u001b[0m\u001b[0;34m\u001b[0m\u001b[0m\n",
      "\u001b[0;32m/Users/dreyco676/anaconda3/anaconda/lib/python3.4/site-packages/googlemaps/client.py\u001b[0m in \u001b[0;36m_get\u001b[0;34m(self, url, params, first_request_time, retry_counter, base_url, accepts_clientid, extract_body, requests_kwargs)\u001b[0m\n\u001b[1;32m    227\u001b[0m             \u001b[0;31m# Retry request.\u001b[0m\u001b[0;34m\u001b[0m\u001b[0;34m\u001b[0m\u001b[0m\n\u001b[1;32m    228\u001b[0m             return self._get(url, params, first_request_time, retry_counter + 1,\n\u001b[0;32m--> 229\u001b[0;31m                              base_url, accepts_clientid, extract_body)\n\u001b[0m\u001b[1;32m    230\u001b[0m \u001b[0;34m\u001b[0m\u001b[0m\n\u001b[1;32m    231\u001b[0m     \u001b[0;32mdef\u001b[0m \u001b[0m_get_body\u001b[0m\u001b[0;34m(\u001b[0m\u001b[0mself\u001b[0m\u001b[0;34m,\u001b[0m \u001b[0mresp\u001b[0m\u001b[0;34m)\u001b[0m\u001b[0;34m:\u001b[0m\u001b[0;34m\u001b[0m\u001b[0m\n",
      "\u001b[0;32m/Users/dreyco676/anaconda3/anaconda/lib/python3.4/site-packages/googlemaps/client.py\u001b[0m in \u001b[0;36m_get\u001b[0;34m(self, url, params, first_request_time, retry_counter, base_url, accepts_clientid, extract_body, requests_kwargs)\u001b[0m\n\u001b[1;32m    227\u001b[0m             \u001b[0;31m# Retry request.\u001b[0m\u001b[0;34m\u001b[0m\u001b[0;34m\u001b[0m\u001b[0m\n\u001b[1;32m    228\u001b[0m             return self._get(url, params, first_request_time, retry_counter + 1,\n\u001b[0;32m--> 229\u001b[0;31m                              base_url, accepts_clientid, extract_body)\n\u001b[0m\u001b[1;32m    230\u001b[0m \u001b[0;34m\u001b[0m\u001b[0m\n\u001b[1;32m    231\u001b[0m     \u001b[0;32mdef\u001b[0m \u001b[0m_get_body\u001b[0m\u001b[0;34m(\u001b[0m\u001b[0mself\u001b[0m\u001b[0;34m,\u001b[0m \u001b[0mresp\u001b[0m\u001b[0;34m)\u001b[0m\u001b[0;34m:\u001b[0m\u001b[0;34m\u001b[0m\u001b[0m\n",
      "\u001b[0;32m/Users/dreyco676/anaconda3/anaconda/lib/python3.4/site-packages/googlemaps/client.py\u001b[0m in \u001b[0;36m_get\u001b[0;34m(self, url, params, first_request_time, retry_counter, base_url, accepts_clientid, extract_body, requests_kwargs)\u001b[0m\n\u001b[1;32m    227\u001b[0m             \u001b[0;31m# Retry request.\u001b[0m\u001b[0;34m\u001b[0m\u001b[0;34m\u001b[0m\u001b[0m\n\u001b[1;32m    228\u001b[0m             return self._get(url, params, first_request_time, retry_counter + 1,\n\u001b[0;32m--> 229\u001b[0;31m                              base_url, accepts_clientid, extract_body)\n\u001b[0m\u001b[1;32m    230\u001b[0m \u001b[0;34m\u001b[0m\u001b[0m\n\u001b[1;32m    231\u001b[0m     \u001b[0;32mdef\u001b[0m \u001b[0m_get_body\u001b[0m\u001b[0;34m(\u001b[0m\u001b[0mself\u001b[0m\u001b[0;34m,\u001b[0m \u001b[0mresp\u001b[0m\u001b[0;34m)\u001b[0m\u001b[0;34m:\u001b[0m\u001b[0;34m\u001b[0m\u001b[0m\n",
      "\u001b[0;32m/Users/dreyco676/anaconda3/anaconda/lib/python3.4/site-packages/googlemaps/client.py\u001b[0m in \u001b[0;36m_get\u001b[0;34m(self, url, params, first_request_time, retry_counter, base_url, accepts_clientid, extract_body, requests_kwargs)\u001b[0m\n\u001b[1;32m    227\u001b[0m             \u001b[0;31m# Retry request.\u001b[0m\u001b[0;34m\u001b[0m\u001b[0;34m\u001b[0m\u001b[0m\n\u001b[1;32m    228\u001b[0m             return self._get(url, params, first_request_time, retry_counter + 1,\n\u001b[0;32m--> 229\u001b[0;31m                              base_url, accepts_clientid, extract_body)\n\u001b[0m\u001b[1;32m    230\u001b[0m \u001b[0;34m\u001b[0m\u001b[0m\n\u001b[1;32m    231\u001b[0m     \u001b[0;32mdef\u001b[0m \u001b[0m_get_body\u001b[0m\u001b[0;34m(\u001b[0m\u001b[0mself\u001b[0m\u001b[0;34m,\u001b[0m \u001b[0mresp\u001b[0m\u001b[0;34m)\u001b[0m\u001b[0;34m:\u001b[0m\u001b[0;34m\u001b[0m\u001b[0m\n",
      "\u001b[0;32m/Users/dreyco676/anaconda3/anaconda/lib/python3.4/site-packages/googlemaps/client.py\u001b[0m in \u001b[0;36m_get\u001b[0;34m(self, url, params, first_request_time, retry_counter, base_url, accepts_clientid, extract_body, requests_kwargs)\u001b[0m\n\u001b[1;32m    227\u001b[0m             \u001b[0;31m# Retry request.\u001b[0m\u001b[0;34m\u001b[0m\u001b[0;34m\u001b[0m\u001b[0m\n\u001b[1;32m    228\u001b[0m             return self._get(url, params, first_request_time, retry_counter + 1,\n\u001b[0;32m--> 229\u001b[0;31m                              base_url, accepts_clientid, extract_body)\n\u001b[0m\u001b[1;32m    230\u001b[0m \u001b[0;34m\u001b[0m\u001b[0m\n\u001b[1;32m    231\u001b[0m     \u001b[0;32mdef\u001b[0m \u001b[0m_get_body\u001b[0m\u001b[0;34m(\u001b[0m\u001b[0mself\u001b[0m\u001b[0;34m,\u001b[0m \u001b[0mresp\u001b[0m\u001b[0;34m)\u001b[0m\u001b[0;34m:\u001b[0m\u001b[0;34m\u001b[0m\u001b[0m\n",
      "\u001b[0;32m/Users/dreyco676/anaconda3/anaconda/lib/python3.4/site-packages/googlemaps/client.py\u001b[0m in \u001b[0;36m_get\u001b[0;34m(self, url, params, first_request_time, retry_counter, base_url, accepts_clientid, extract_body, requests_kwargs)\u001b[0m\n\u001b[1;32m    227\u001b[0m             \u001b[0;31m# Retry request.\u001b[0m\u001b[0;34m\u001b[0m\u001b[0;34m\u001b[0m\u001b[0m\n\u001b[1;32m    228\u001b[0m             return self._get(url, params, first_request_time, retry_counter + 1,\n\u001b[0;32m--> 229\u001b[0;31m                              base_url, accepts_clientid, extract_body)\n\u001b[0m\u001b[1;32m    230\u001b[0m \u001b[0;34m\u001b[0m\u001b[0m\n\u001b[1;32m    231\u001b[0m     \u001b[0;32mdef\u001b[0m \u001b[0m_get_body\u001b[0m\u001b[0;34m(\u001b[0m\u001b[0mself\u001b[0m\u001b[0;34m,\u001b[0m \u001b[0mresp\u001b[0m\u001b[0;34m)\u001b[0m\u001b[0;34m:\u001b[0m\u001b[0;34m\u001b[0m\u001b[0m\n",
      "\u001b[0;32m/Users/dreyco676/anaconda3/anaconda/lib/python3.4/site-packages/googlemaps/client.py\u001b[0m in \u001b[0;36m_get\u001b[0;34m(self, url, params, first_request_time, retry_counter, base_url, accepts_clientid, extract_body, requests_kwargs)\u001b[0m\n\u001b[1;32m    227\u001b[0m             \u001b[0;31m# Retry request.\u001b[0m\u001b[0;34m\u001b[0m\u001b[0;34m\u001b[0m\u001b[0m\n\u001b[1;32m    228\u001b[0m             return self._get(url, params, first_request_time, retry_counter + 1,\n\u001b[0;32m--> 229\u001b[0;31m                              base_url, accepts_clientid, extract_body)\n\u001b[0m\u001b[1;32m    230\u001b[0m \u001b[0;34m\u001b[0m\u001b[0m\n\u001b[1;32m    231\u001b[0m     \u001b[0;32mdef\u001b[0m \u001b[0m_get_body\u001b[0m\u001b[0;34m(\u001b[0m\u001b[0mself\u001b[0m\u001b[0;34m,\u001b[0m \u001b[0mresp\u001b[0m\u001b[0;34m)\u001b[0m\u001b[0;34m:\u001b[0m\u001b[0;34m\u001b[0m\u001b[0m\n",
      "\u001b[0;32m/Users/dreyco676/anaconda3/anaconda/lib/python3.4/site-packages/googlemaps/client.py\u001b[0m in \u001b[0;36m_get\u001b[0;34m(self, url, params, first_request_time, retry_counter, base_url, accepts_clientid, extract_body, requests_kwargs)\u001b[0m\n\u001b[1;32m    227\u001b[0m             \u001b[0;31m# Retry request.\u001b[0m\u001b[0;34m\u001b[0m\u001b[0;34m\u001b[0m\u001b[0m\n\u001b[1;32m    228\u001b[0m             return self._get(url, params, first_request_time, retry_counter + 1,\n\u001b[0;32m--> 229\u001b[0;31m                              base_url, accepts_clientid, extract_body)\n\u001b[0m\u001b[1;32m    230\u001b[0m \u001b[0;34m\u001b[0m\u001b[0m\n\u001b[1;32m    231\u001b[0m     \u001b[0;32mdef\u001b[0m \u001b[0m_get_body\u001b[0m\u001b[0;34m(\u001b[0m\u001b[0mself\u001b[0m\u001b[0;34m,\u001b[0m \u001b[0mresp\u001b[0m\u001b[0;34m)\u001b[0m\u001b[0;34m:\u001b[0m\u001b[0;34m\u001b[0m\u001b[0m\n",
      "\u001b[0;32m/Users/dreyco676/anaconda3/anaconda/lib/python3.4/site-packages/googlemaps/client.py\u001b[0m in \u001b[0;36m_get\u001b[0;34m(self, url, params, first_request_time, retry_counter, base_url, accepts_clientid, extract_body, requests_kwargs)\u001b[0m\n\u001b[1;32m    182\u001b[0m         \u001b[0melapsed\u001b[0m \u001b[0;34m=\u001b[0m \u001b[0mdatetime\u001b[0m\u001b[0;34m.\u001b[0m\u001b[0mnow\u001b[0m\u001b[0;34m(\u001b[0m\u001b[0;34m)\u001b[0m \u001b[0;34m-\u001b[0m \u001b[0mfirst_request_time\u001b[0m\u001b[0;34m\u001b[0m\u001b[0m\n\u001b[1;32m    183\u001b[0m         \u001b[0;32mif\u001b[0m \u001b[0melapsed\u001b[0m \u001b[0;34m>\u001b[0m \u001b[0mself\u001b[0m\u001b[0;34m.\u001b[0m\u001b[0mretry_timeout\u001b[0m\u001b[0;34m:\u001b[0m\u001b[0;34m\u001b[0m\u001b[0m\n\u001b[0;32m--> 184\u001b[0;31m             \u001b[0;32mraise\u001b[0m \u001b[0mgooglemaps\u001b[0m\u001b[0;34m.\u001b[0m\u001b[0mexceptions\u001b[0m\u001b[0;34m.\u001b[0m\u001b[0mTimeout\u001b[0m\u001b[0;34m(\u001b[0m\u001b[0;34m)\u001b[0m\u001b[0;34m\u001b[0m\u001b[0m\n\u001b[0m\u001b[1;32m    185\u001b[0m \u001b[0;34m\u001b[0m\u001b[0m\n\u001b[1;32m    186\u001b[0m         \u001b[0;32mif\u001b[0m \u001b[0mretry_counter\u001b[0m \u001b[0;34m>\u001b[0m \u001b[0;36m0\u001b[0m\u001b[0;34m:\u001b[0m\u001b[0;34m\u001b[0m\u001b[0m\n",
      "\u001b[0;31mTimeout\u001b[0m: "
     ]
    }
   ],
   "source": [
    "# let's look at just doing one at a time before we run a whole list\n",
    "# use google maps places API to get geolocation information \n",
    "loc = 'AITKIN SECONDARY SCHOOL'\n",
    "gmaps_json = gmaps.places(loc, location='Minnesota', radius=1000, types='school')\n",
    "\n",
    "# use pretty print library to have nicer looking output\n",
    "import pprint\n",
    "pprint.pprint(gmaps_json)"
   ]
  },
  {
   "cell_type": "code",
   "execution_count": 17,
   "metadata": {
    "collapsed": false
   },
   "outputs": [
    {
     "name": "stdout",
     "output_type": "stream",
     "text": [
      "Aitkin Secondary School 46.5336663 -93.71121749999999 306 2nd St NW, Aitkin, MN 56431, United States\n"
     ]
    }
   ],
   "source": [
    "# let's grab the fields we care about\n",
    "results = gmaps_json[\"results\"][0]\n",
    "\n",
    "std_name = results['name']\n",
    "lat = results['geometry']['location']['lat']\n",
    "lng = results['geometry']['location']['lng']\n",
    "std_address = results['formatted_address']\n",
    "\n",
    "print(std_name, lat, lng, std_address)"
   ]
  },
  {
   "cell_type": "code",
   "execution_count": 18,
   "metadata": {
    "collapsed": false
   },
   "outputs": [
    {
     "name": "stdout",
     "output_type": "stream",
     "text": [
      "({'AddressNumber': '306',\n",
      "  'StreetName': '2nd',\n",
      "  'StreetNamePostType': 'St',\n",
      "  'StreetNamePostDirectional': 'NW',\n",
      "  'PlaceName': 'Aitkin',\n",
      "  'StateName': 'MN',\n",
      "  'ZipCode': '56431',\n",
      "  'CountryName': 'United States'},\n",
      " 'Street Address')\n"
     ]
    }
   ],
   "source": [
    "# tag the address to get nice filtering criteria like zip and city\n",
    "import usaddress\n",
    "parsed_address = usaddress.tag(std_address)\n",
    "\n",
    "pprint.pprint(parsed_address)"
   ]
  },
  {
   "cell_type": "code",
   "execution_count": 19,
   "metadata": {
    "collapsed": false
   },
   "outputs": [
    {
     "name": "stdout",
     "output_type": "stream",
     "text": [
      "Aitkin MN 56431\n"
     ]
    }
   ],
   "source": [
    "# select the pieces we care about\n",
    "city = parsed_address[0]['PlaceName']\n",
    "state = parsed_address[0]['StateName']\n",
    "\n",
    "print(city, state)"
   ]
  },
  {
   "cell_type": "code",
   "execution_count": 21,
   "metadata": {
    "collapsed": false
   },
   "outputs": [
    {
     "name": "stdout",
     "output_type": "stream",
     "text": [
      "               Search_Term                     Name   Latitude  Longitude  \\\n",
      "0  AITKIN SECONDARY SCHOOL  Aitkin Secondary School  46.533666 -93.711217   \n",
      "\n",
      "     City State ZipCode  \n",
      "0  Aitkin    MN   56431  \n"
     ]
    }
   ],
   "source": [
    "# let's put this all together to make a single record in a table\n",
    "# important to keep the original name searched, use this to join back\n",
    "df = pd.DataFrame([[loc, std_name, lat, lng, city, state]], \n",
    "                  columns=['Search_Term', 'Name', 'Latitude', 'Longitude', 'City', 'State'])\n",
    "\n",
    "print(df)"
   ]
  },
  {
   "cell_type": "code",
   "execution_count": null,
   "metadata": {
    "collapsed": false
   },
   "outputs": [
    {
     "name": "stdout",
     "output_type": "stream",
     "text": [
      "all schools Failed.\n",
      "aitkin secondary school Failed.\n",
      "rippleside elementary Failed.\n",
      "aitkin alternative learning program Failed.\n",
      "armatage elementary Failed.\n",
      "lake harriet lower elementary"
     ]
    }
   ],
   "source": [
    "import googlemaps\n",
    "import usaddress\n",
    "\n",
    "# ok let's try this across the whole list\n",
    "geoloc_df = pd.DataFrame()\n",
    "for loc in unique_names:\n",
    "    try:\n",
    "        gmaps_json = gmaps.places(loc, location='Minnesota', radius=1000, types='school')\n",
    "        print(gmaps_json)\n",
    "        # parse json\n",
    "        results = gmaps_json[\"results\"][0]\n",
    "        std_name = results['name']\n",
    "        lat = results['geometry']['location']['lat']\n",
    "        lng = results['geometry']['location']['lng']\n",
    "        std_address = results['formatted_address']\n",
    "        # parse the address\n",
    "        parsed_address = usaddress.tag(std_address)\n",
    "        city = parsed_address[0]['PlaceName']\n",
    "        state = parsed_address[0]['StateName']\n",
    "        df = pd.DataFrame([[loc, std_name, lat, lng, city, state]], \n",
    "                  columns=['Raw_Name', 'Name', 'Latitude', 'Longitude', 'City', 'State'])\n",
    "        geoloc_df = geoloc_df.append(df)\n",
    "    # if something fails, just skip. bad coding\n",
    "    except:\n",
    "        print(loc, 'Failed.')\n"
   ]
  },
  {
   "cell_type": "code",
   "execution_count": null,
   "metadata": {
    "collapsed": true
   },
   "outputs": [],
   "source": [
    "# save data so I don't bore you in the talk\n",
    "geoloc_df.to_csv('tutorial_cached.txt', sep='\\t', index=False, mode='w')"
   ]
  },
  {
   "cell_type": "code",
   "execution_count": 7,
   "metadata": {
    "collapsed": false
   },
   "outputs": [
    {
     "name": "stdout",
     "output_type": "stream",
     "text": [
      "                           Raw_Name                                Name  \\\n",
      "0                              test                                test   \n",
      "1          little canada elementary     Little Canada Elementary School   \n",
      "2                            attain                              Attain   \n",
      "3  west st. paul-mendota hts.-eagan  Independent School District No 197   \n",
      "4    lakeville area learning center      Lakeville Area Learning Center   \n",
      "\n",
      "    Latitude   Longitude             City State  \n",
      "0  23.000000  343.000000       Eau Claire    WI  \n",
      "1  45.024745  -93.083058    Little Canada    MN  \n",
      "2  38.926405  -77.225298           McLean    VA  \n",
      "3  44.887310  -93.108026  Mendota Heights    MN  \n",
      "4  44.646357  -93.243841        Lakeville    MN  \n"
     ]
    }
   ],
   "source": [
    "# load data so I don't bore you in the talk\n",
    "geoloc_df = pd.read_csv('tutorial_cached.txt', sep='\\t')\n",
    "\n",
    "print(geoloc_df.head())"
   ]
  },
  {
   "cell_type": "code",
   "execution_count": 14,
   "metadata": {
    "collapsed": false
   },
   "outputs": [
    {
     "name": "stdout",
     "output_type": "stream",
     "text": [
      "Empty DataFrame\n",
      "Columns: [DataYear, DistrictCountyNumber, DistrictCountyName, DistrictNumber, DistrictType, DistrictName, SchoolNumber, SchoolName, ECSUNumber, EcoDevRgn, Testname, TestDate, Grade, Subject, ReportOrder, ReportCategory, ReportDescription, Filtered, CountTested, CountLevel1, CountLevel2, CountLevel3, CountLevel4, PercentLevel1, PercentLevel2, PercentLevel3, PercentLevel4, AverageScore, NOPSAverageScore, ALGSAverageScore, GMSAverageScore, DAPSAverageScore, VSSAverageScore, Stddev, StdErrorOfMean, ConfidenceInterval, CountAbsent, CountInvalid, CountMedExempt, CountNotComplete, CountPSO, CountRefused, CountWrongGrade, GradeEnrollment, K12Enrollment, FilterThreshold, PublicSchool, SchoolCountyNumber, SchoolCountyName, SchoolClassification, SummaryLevel, Raw_Name, Name, Latitude, Longitude, City, State]\n",
      "Index: []\n",
      "\n",
      "[0 rows x 57 columns]\n"
     ]
    }
   ],
   "source": [
    "# now let's append the geolocation data to the original data\n",
    "# data might have wholes in it so we'll do a left join (keep everything in original + matches in geolocation)\n",
    "\n",
    "result_df = pd.merge(data_df, geoloc_df, how='left', left_on='SchoolName', right_on='Raw_Name')\n",
    "\n",
    "# ideally here you would look to see how many don't have matches and may try to fix those by hand\n",
    "matched_df = result_df.dropna(subset=['Name'], how='all')\n"
   ]
  }
 ],
 "metadata": {
  "kernelspec": {
   "display_name": "Python 3",
   "language": "python",
   "name": "python3"
  },
  "language_info": {
   "codemirror_mode": {
    "name": "ipython",
    "version": 3
   },
   "file_extension": ".py",
   "mimetype": "text/x-python",
   "name": "python",
   "nbconvert_exporter": "python",
   "pygments_lexer": "ipython3",
   "version": "3.4.4"
  }
 },
 "nbformat": 4,
 "nbformat_minor": 0
}
